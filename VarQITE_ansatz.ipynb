{
 "cells": [
  {
   "cell_type": "markdown",
   "id": "961d426e",
   "metadata": {},
   "source": [
    "This notebook is to test different ansatz for VarQITE algorithm. We are using the VarQITE algorithm to find the eigenvalues of a Tight Binding Hamiltonian. We are currently testing an ansatz which creates superposition of states of a particular sub_space (such that number of ones in all the superposed states is same). We then expect this ansatz to give the lowest eigenvalue of that sub-space.  \n",
    "\n",
    "For Example, for a 5 qubit system it would look like this :  \n",
    "\n",
    "$$|{\\psi \\rangle = a_0| 10001\\rangle + a_1|10010 \\rangle + a_2|10100 \\rangle + a_3| 11000\\rangle + a_4|01001 \\rangle + a_5| 01010\\rangle + a_6| 01100\\rangle + a_7|00101 \\rangle + a_8| 00110\\rangle + a_9|00011 \\rangle }$$  \n",
    "\n",
    "for number of ones = 2 or  \n",
    "\n",
    "$$| \\psi \\rangle = a_0|10000 \\rangle + a_1|01000 \\rangle + a_2| 00100\\rangle + a_3| 00010\\rangle + a_4| 00001 \\rangle$$   \n",
    "for number of ones = 1  \n",
    "- Run this notebook for different ansatz (currently : su2, easy, easy3)"
   ]
  },
  {
   "cell_type": "code",
   "execution_count": 1,
   "id": "2cc6b76d",
   "metadata": {},
   "outputs": [],
   "source": [
    "import numpy as np\n",
    "from qiskit import *\n",
    "from qiskit.circuit import Parameter\n",
    "from qiskit.quantum_info import SparsePauliOp, Statevector\n",
    "from tabulate import tabulate\n",
    "from itertools import combinations\n",
    "from qiskit.circuit.library import EfficientSU2\n",
    "import math\n",
    "import time\n",
    "from qiskit.circuit.library import EfficientSU2\n",
    "from qiskit.algorithms.time_evolvers.variational import ImaginaryMcLachlanPrinciple\n",
    "from qiskit.algorithms import TimeEvolutionProblem\n",
    "from qiskit.algorithms import VarQITE\n",
    "from qiskit.primitives import Estimator\n",
    "from qiskit.quantum_info import Statevector\n",
    "from qiskit.algorithms import SciPyImaginaryEvolver\n",
    "import pylab\n",
    "from qiskit.algorithms.gradients import ReverseEstimatorGradient, ReverseQGT\n",
    "from qiskit.circuit.library import RYGate"
   ]
  },
  {
   "cell_type": "code",
   "execution_count": 2,
   "id": "f16b0395",
   "metadata": {},
   "outputs": [],
   "source": [
    "def tb0_JW(N,e,t) : \n",
    "    strings = []\n",
    "    opt = SparsePauliOp.from_sparse_list([(\"I\", [0], 0)], num_qubits=N)  \n",
    "    for k in range(N) : \n",
    "        a0='I'*(N)\n",
    "        a1 = 'I'*(k)+'Z' +'I'*(N-k-1)\n",
    "\n",
    "        b0='I'*N\n",
    "        b0_list = list(b0)\n",
    "        b0_list[k] = 'X'\n",
    "        b0_list[(k+1)%N] = 'X'\n",
    "        new_b0 = ''.join(b0_list)\n",
    "\n",
    "        b1='I'*N\n",
    "        b1_list = list(b0)\n",
    "        b1_list[k] = 'Y'\n",
    "        b1_list[(k+1)%N] = 'Y'\n",
    "        new_b1 = ''.join(b1_list)\n",
    "\n",
    "        strings.append([a0,a1,new_b0,new_b1])\n",
    "        val = 1\n",
    "        if N==2 and k==1 : \n",
    "            val = 0\n",
    "        opt += SparsePauliOp.from_list([(a0, 0.5*e[k]), (a1, -0.5*e[k]),(new_b0, 0.5*t*val),(new_b1, 0.5*t*val)])\n",
    "    return opt  \n",
    "\n",
    "def spinless_basis(N,r) : \n",
    "    basis_set = []\n",
    "    lattice = list(range(N))\n",
    "    places = list(combinations(lattice, r))\n",
    "    for combination in places : \n",
    "        basis = [False] *N\n",
    "        for index in combination : \n",
    "            basis[index] = True \n",
    "        basis_set.append(basis)\n",
    "    return basis_set"
   ]
  },
  {
   "cell_type": "code",
   "execution_count": 5,
   "id": "ec700332",
   "metadata": {},
   "outputs": [],
   "source": [
    "N=4\n",
    "e=[1]*N\n",
    "t=7\n",
    "H_op = tb0_JW(N,e,t)"
   ]
  },
  {
   "cell_type": "code",
   "execution_count": 4,
   "id": "a81bf974",
   "metadata": {},
   "outputs": [
    {
     "data": {
      "image/png": "[encoded data removed]",
      "text/plain": [
       "<Figure size 621.941x284.278 with 1 Axes>"
      ]
     },
     "execution_count": 4,
     "metadata": {},
     "output_type": "execute_result"
    }
   ],
   "source": [
    "#This finds the right results for less number of qubits and takes a lot of time \n",
    "su2 = EfficientSU2(H_op.num_qubits, reps=1)\n",
    "su2.decompose().draw('mpl')\n",
    "#print(su2.parameters)"
   ]
  },
  {
   "cell_type": "code",
   "execution_count": 4,
   "id": "a8c36e5e",
   "metadata": {},
   "outputs": [],
   "source": [
    "def scs_param(n,l,var,param) : \n",
    "\n",
    "    circ = QuantumCircuit(n)\n",
    "    circ.cx(-2,-1)\n",
    "    circ.cry(param[var],-1,-2)\n",
    "    var+=1\n",
    "    circ.cx(-2,-1)\n",
    "\n",
    "    for i in range(l-1) : \n",
    "        circ.cx(-3-i,-1)\n",
    "        ccry = RYGate(param[var]).control(2,label=None)\n",
    "        var+=1\n",
    "        circ.append(ccry,[-1,-2-i,-3-i])\n",
    "        circ.cx(-3-i,-1)\n",
    "    return circ, var\n",
    "\n",
    "def dicke_param(n,k) : \n",
    "    pairs = []\n",
    "    for a in range(n,k,-1) : \n",
    "        pairs.append([a,k])\n",
    "    for a in range(k,1,-1) : \n",
    "        pairs.append([a,a-1])\n",
    "\n",
    "    num_angles = int(3*(n-k) + k*(k-1)/2)\n",
    "    param = [Parameter(f\"angle_{i+1}\") for i in range(num_angles)]\n",
    "\n",
    "    dk_circ = QuantumCircuit(n)\n",
    "    dk_circ.x(range(-1,-k-1,-1))\n",
    "    var=0\n",
    "    for pair in pairs : \n",
    "        new_circ,new_var = scs_param(pair[0],pair[1],var,param)\n",
    "        var = new_var\n",
    "        dk_circ.append(new_circ, range(pair[0]))\n",
    "    return dk_circ"
   ]
  },
  {
   "cell_type": "code",
   "execution_count": 5,
   "id": "edf94178",
   "metadata": {},
   "outputs": [
    {
     "name": "stdout",
     "output_type": "stream",
     "text": [
      "ParameterView([Parameter(theta)])\n"
     ]
    },
    {
     "data": {
      "image/png": "[encoded data removed]",
      "text/plain": [
       "<Figure size 371.107x284.278 with 1 Axes>"
      ]
     },
     "execution_count": 5,
     "metadata": {},
     "output_type": "execute_result"
    }
   ],
   "source": [
    "#We create this easy, custom ansatz for 2 qubits\n",
    "easy = QuantumCircuit(N)\n",
    "param = Parameter(\"theta\")\n",
    "easy.ry(param,0)\n",
    "easy.cx(0,1)\n",
    "easy.x(1)\n",
    "#print(easy)\n",
    "print(easy.parameters)\n",
    "easy.draw('mpl')"
   ]
  },
  {
   "cell_type": "code",
   "execution_count": 6,
   "id": "fdd3a5c2",
   "metadata": {},
   "outputs": [
    {
     "data": {
      "image/png": "[encoded data removed]",
      "text/plain": [
       "<Figure size 538.33x284.278 with 1 Axes>"
      ]
     },
     "execution_count": 6,
     "metadata": {},
     "output_type": "execute_result"
    }
   ],
   "source": [
    "#We use a similar approach as before to create ansatz for 3 qubits \n",
    "easy3 = QuantumCircuit(3)\n",
    "param = [Parameter(\"a_0\"),Parameter(\"a_1\"),Parameter(\"a_2\") ]\n",
    "easy3.ry(param[0],0)\n",
    "easy3.cx(0,1)\n",
    "easy3.cry(param[1],0,2)\n",
    "easy3.x(1)\n",
    "easy3.ry(param[2],1)\n",
    "easy3.draw('mpl')"
   ]
  },
  {
   "cell_type": "code",
   "execution_count": 6,
   "id": "39378f73",
   "metadata": {},
   "outputs": [
    {
     "name": "stdout",
     "output_type": "stream",
     "text": [
      "{Parameter(angle_1): 1, Parameter(angle_2): 1, Parameter(angle_3): 1}\n"
     ]
    }
   ],
   "source": [
    "'''Try different ansatz here :\n",
    "ansatz=su2\n",
    "ansatz=easy\n",
    "ansatz=easy3'''\n",
    "\n",
    "ansatz = dicke_param(N,1)\n",
    "init_param_values={}\n",
    "for i in range(len(ansatz.parameters)):\n",
    "    init_param_values[ansatz.parameters[i]]=1\n",
    "print(init_param_values)"
   ]
  },
  {
   "cell_type": "code",
   "execution_count": 7,
   "id": "810459b7",
   "metadata": {},
   "outputs": [],
   "source": [
    "var_principle = ImaginaryMcLachlanPrinciple()\n",
    "\n",
    "exp_time = 5.0\n",
    "aux_ops = [H_op]\n",
    "evolution_problem = TimeEvolutionProblem(H_op, exp_time, aux_operators=aux_ops)\n",
    "\n",
    "backend = Aer.get_backend('statevector_simulator')"
   ]
  },
  {
   "cell_type": "code",
   "execution_count": 8,
   "id": "e7a24af5",
   "metadata": {},
   "outputs": [
    {
     "name": "stdout",
     "output_type": "stream",
     "text": [
      "Elapsed time:  38.838231801986694  seconds\n"
     ]
    }
   ],
   "source": [
    "#We use the VarQITE algorithm to estimate lowest eigenvalue\n",
    "\n",
    "start_time = time.time()\n",
    "var_principle = ImaginaryMcLachlanPrinciple(qgt = ReverseQGT() , gradient = ReverseEstimatorGradient())\n",
    "evolution_problem = TimeEvolutionProblem(H_op, exp_time, aux_operators=aux_ops)\n",
    "var_qite = VarQITE(ansatz, init_param_values, var_principle, Estimator())\n",
    "evolution_result_eff = var_qite.evolve(evolution_problem)\n",
    "end_time = time.time()\n",
    "elapsed_time = end_time - start_time\n",
    "\n",
    "print(\"Elapsed time: \", elapsed_time, \" seconds\")"
   ]
  },
  {
   "cell_type": "code",
   "execution_count": 9,
   "id": "c861de84",
   "metadata": {},
   "outputs": [],
   "source": [
    "#This is the evolved state\n",
    "eff_circ = evolution_result_eff.evolved_state"
   ]
  },
  {
   "cell_type": "code",
   "execution_count": 10,
   "id": "7b65cdd5",
   "metadata": {},
   "outputs": [
    {
     "name": "stdout",
     "output_type": "stream",
     "text": [
      "Rounded eigenstate:\n",
      "[0j, (-0.5+0j), (0.5+0j), 0j, (-0.5+0j), 0j, 0j, 0j, (0.5+0j), 0j, 0j, 0j, 0j, (-0+0j), 0j, 0j]\n"
     ]
    }
   ],
   "source": [
    "#We use the statevector simulator to find the eigenstate corresponding to lowest eigenvalue\n",
    "eff_job = execute(eff_circ, backend)\n",
    "eff_result = eff_job.result()\n",
    "eff_statevector = eff_result.get_statevector()\n",
    "\n",
    "#print(eff_statevector)\n",
    "final_sv = [np.round(x,3) for x in np.asarray(eff_statevector)]\n",
    "print(\"Rounded eigenstate:\")\n",
    "print(final_sv)"
   ]
  },
  {
   "cell_type": "code",
   "execution_count": 11,
   "id": "b5974175",
   "metadata": {},
   "outputs": [
    {
     "data": {
      "text/plain": [
       "-13.0"
      ]
     },
     "execution_count": 11,
     "metadata": {},
     "output_type": "execute_result"
    }
   ],
   "source": [
    "#This is the lowest eigenvalue\n",
    "h_exp_val = np.array([ele[0][0] for ele in evolution_result_eff.observables])\n",
    "h_exp_val[-1]"
   ]
  },
  {
   "cell_type": "markdown",
   "id": "c60ed316",
   "metadata": {},
   "source": [
    "Now we use the SciPyImaginaryEvolver to calculate the imag9inary time evolution classically, just to verify "
   ]
  },
  {
   "cell_type": "code",
   "execution_count": 12,
   "id": "c7a7ae44",
   "metadata": {},
   "outputs": [],
   "source": [
    "init_state = Statevector(ansatz.assign_parameters(init_param_values))"
   ]
  },
  {
   "cell_type": "code",
   "execution_count": 13,
   "id": "7afd314d",
   "metadata": {},
   "outputs": [],
   "source": [
    "evolution_problem = TimeEvolutionProblem(H_op, exp_time, initial_state=init_state, aux_operators=aux_ops)\n",
    "exact_evol = SciPyImaginaryEvolver(num_timesteps=501)\n",
    "sol = exact_evol.evolve(evolution_problem)"
   ]
  },
  {
   "cell_type": "code",
   "execution_count": 14,
   "id": "abcb03d4",
   "metadata": {},
   "outputs": [
    {
     "data": {
      "text/plain": [
       "-13.000000000037147"
      ]
     },
     "execution_count": 14,
     "metadata": {},
     "output_type": "execute_result"
    }
   ],
   "source": [
    "#Exact lowest eigenvalue\n",
    "exact_h_exp_val = sol.observables[0][0].real\n",
    "exact_h_exp_val[-1]"
   ]
  },
  {
   "cell_type": "code",
   "execution_count": 15,
   "id": "ad823997",
   "metadata": {},
   "outputs": [
    {
     "data": {
      "image/png": "[encoded data removed]",
      "text/plain": [
       "<Figure size 640x480 with 1 Axes>"
      ]
     },
     "metadata": {},
     "output_type": "display_data"
    }
   ],
   "source": [
    "#Comparison of VarQITE and Classical evolution\n",
    "times = evolution_result_eff.times\n",
    "pylab.plot(times, h_exp_val, label= \"VarQITE\")\n",
    "pylab.plot(times, exact_h_exp_val , label= \"Exact\",  linestyle='--')\n",
    "pylab.xlabel(\"Time\")\n",
    "pylab.ylabel(r\"$\\langle H \\rangle$ (energy)\")\n",
    "pylab.legend(loc=\"upper right\");"
   ]
  },
  {
   "cell_type": "markdown",
   "id": "3c6bffdb",
   "metadata": {},
   "source": [
    "### References  \n",
    "1. [Variational Quantum Time Evolution - Qiskit Documentation](https://qiskit.org/documentation/tutorials/algorithms/11_VarQTE.html)  \n",
    "2. [Yuan et al. Quantum 3, 191](https://quantum-journal.org/papers/q-2019-10-07-191/)  \n",
    "3. [Dicke States](https://arxiv.org/abs/1904.07358)  \n"
   ]
  },
  {
   "cell_type": "code",
   "execution_count": null,
   "id": "449e15e8",
   "metadata": {},
   "outputs": [],
   "source": []
  }
 ],
 "metadata": {
  "kernelspec": {
   "display_name": "Python 3.8.3 64-bit ('qiskit': conda)",
   "language": "python",
   "name": "python38364bitqiskitconda85c61b2c9abf41d69916d1aec5f7d63b"
  },
  "language_info": {
   "codemirror_mode": {
    "name": "ipython",
    "version": 3
   },
   "file_extension": ".py",
   "mimetype": "text/x-python",
   "name": "python",
   "nbconvert_exporter": "python",
   "pygments_lexer": "ipython3",
   "version": "3.9.16"
  }
 },
 "nbformat": 4,
 "nbformat_minor": 5
}
