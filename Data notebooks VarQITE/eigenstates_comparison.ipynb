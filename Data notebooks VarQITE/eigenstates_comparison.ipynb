{
 "cells": [
  {
   "cell_type": "code",
   "execution_count": 1,
   "id": "b7db4a1f",
   "metadata": {},
   "outputs": [],
   "source": [
    "import random\n",
    "import numpy as np\n",
    "import matplotlib.pyplot as plt\n",
    "from scipy.linalg import eigh, block_diag\n",
    "import math \n",
    "from itertools import combinations\n",
    "\n",
    "from tabulate import tabulate"
   ]
  },
  {
   "cell_type": "code",
   "execution_count": 2,
   "id": "6f23bbda",
   "metadata": {},
   "outputs": [],
   "source": [
    "def spinless_sub_dim(N,r) : \n",
    "    return math.comb(N,r)\n",
    "\n",
    "def spinless_fock_dim(N) : \n",
    "    dim_dict = {} \n",
    "    for r in range(N+1) : \n",
    "        dim_dict[r] = spinless_sub_dim(N,r)\n",
    "    return sum(dim_dict.values()), dim_dict\n",
    "\n",
    "def spinless_basis(N,r) : \n",
    "    basis_set = []\n",
    "    lattice = list(range(N))\n",
    "    places = list(combinations(lattice, r))\n",
    "    for combination in places : \n",
    "        basis = [False] *N\n",
    "        for index in combination : \n",
    "            basis[index] = True \n",
    "        basis_set.append(basis)\n",
    "    return basis_set\n",
    "def spinless_states_index(N) : \n",
    "    '''Input : N, uses spinless_basis function\n",
    "    Output : Returns binary of basis states in fermionic Hamiltonian ''' \n",
    "    index = []\n",
    "    for r in range(N+1) : \n",
    "        b_set = spinless_basis(N,r)\n",
    "        new_bset = []\n",
    "        for b in b_set : \n",
    "            new_b = sum([2**(N-i-1)*b[i] for i in range(N)])\n",
    "            index.append(new_b)\n",
    "    return index\n",
    "\n",
    "def tb0_model(N,r,e,t): \n",
    "    ''' Generalised Tight Binding (spinless) model for periodic boundary condition\n",
    "    Input : Number of lattice sites (int), number of electrons(int), hopping constant (int/float), onsite energies (list)\n",
    "    Output : Tight binding Hamiltonian, eigenvalues and eigenvectors of the matrix ''' \n",
    "    dim = spinless_sub_dim(N,r)\n",
    "    if dim==1 : \n",
    "        H = np.ones(1)*r\n",
    "        eigval = 1*r\n",
    "        new_vec = [[1]]\n",
    "    elif r==N : \n",
    "        H = [[r]]\n",
    "        eigval = H[0]\n",
    "        new_vec = H\n",
    "    else : \n",
    "        H = np.zeros((dim, dim))\n",
    "        basis_set = spinless_basis(N,r)\n",
    "        n_diag = np.zeros(dim)\n",
    "        for i in range(dim) : \n",
    "            for j in range(N) : \n",
    "                n_diag[i] += e[j]*basis_set[i][j]\n",
    "\n",
    "        np.fill_diagonal(H,n_diag)\n",
    "        for basis_index,basis in enumerate(basis_set) : \n",
    "            for site in range(len(basis)) : \n",
    "                if basis[site] == False and basis[(site+1)%N] == True : \n",
    "                    new_state = basis.copy()\n",
    "                    new_state[site] = True\n",
    "                    new_state[(site+1)%N] = False \n",
    "                    for i in range(len(basis_set)) : \n",
    "                        if basis_set[i] == new_state: \n",
    "                            f_index = i\n",
    "                    H[f_index][basis_index] +=t\n",
    "                if N != 2 : \n",
    "                    if basis[site] == True and basis[(site+1)%N] == False : \n",
    "                        new_state = basis.copy()\n",
    "                        new_state[site] = False\n",
    "                        new_state[(site+1)%N] = True \n",
    "                        for i in range(len(basis_set)) : \n",
    "                            if basis_set[i] == new_state : \n",
    "                                f_index = i\n",
    "                        H[f_index][basis_index] +=t \n",
    "        H[0][0]=1\n",
    "        eigval,eigvec = np.linalg.eigh(H)\n",
    "        new_vec = list(zip(*eigvec))\n",
    "                \n",
    "    return H,eigval,new_vec\n",
    "\n",
    "def tb0_full(N,e,t): \n",
    "    '''Full Block Diagonal Hamiltonian for some N length closed lattice '''\n",
    "    H_sub_list = []\n",
    "    for r in range(N+1) : \n",
    "        H_sub = tb0_model(N,r,e,t)[0]\n",
    "        H_sub_list.append(H_sub)\n",
    "    H = block_diag(*H_sub_list) \n",
    "    return H\n",
    "\n",
    "def spinless_state_vec(basis) : \n",
    "    N = len(basis) \n",
    "    r = np.count_nonzero(basis)\n",
    "    dim = spinless_sub_dim(N,r)\n",
    "    basis_set = spinless_basis(N,r)\n",
    "    i =-1\n",
    "    index=0\n",
    "    for state in basis_set : \n",
    "        i+=1\n",
    "        vec = np.zeros(dim)\n",
    "        if state == basis : \n",
    "            index = i\n",
    "\n",
    "        vec[index] = 1\n",
    "    return vec\n",
    "    \n",
    "def density_of_states(eigval,n_centers) :\n",
    "    gamma = (eigval[-1]-eigval[0])/n_centers\n",
    "    centers = np.linspace(eigval[0]-n_centers/10, eigval[-1]+n_centers/10, num=n_centers)\n",
    "    \n",
    "    density = np.zeros(n_centers)\n",
    "    for i, center in enumerate(centers):\n",
    "        if center < eigval[0] or center > eigval[-1]: \n",
    "            density[i] = 0 \n",
    "        else : \n",
    "            lorentz = np.sum(1 / np.pi * (gamma / 2) / ((center - eigval)**2 + (gamma / 2)**2))\n",
    "            density[i] = lorentz\n",
    "    norm_density = [float(i)/sum(density) for i in density]\n",
    "    plt.plot(centers,norm_density)\n",
    "    plt.xlabel('Energy of system')\n",
    "    plt.ylabel('Density of states')\n",
    "    plt.title(\"Density of states\")\n",
    "    return density\n",
    "     \n",
    "\n",
    "def state_occupation(states) :\n",
    "    '''Describes occupation of eigenstates over the lattice sites \n",
    "    Input : list of eigenstates\n",
    "    Output : plots the occuptation number graph and \n",
    "    returns list of occupation number over sites for all thes states (list of lists)'''\n",
    "    num_states = len(states)\n",
    "    dim = len(states[0])\n",
    "    vec_site_occ = []\n",
    "    basis_set = spinless_basis(N,r)\n",
    "    for index,vec in enumerate(states) : \n",
    "        site_occ = np.zeros(N)\n",
    "        for site in range(N) : \n",
    "            for i in range(dim) : \n",
    "                site_occ[site] += np.abs(vec[i])**2 *basis_set[i][site]\n",
    "        plt.plot(range(N), site_occ, label='vec {:.2f}'.format(index))\n",
    "        vec_site_occ.append(site_occ)\n",
    "    plt.xlabel('sites')\n",
    "    plt.ylabel('<n>')\n",
    "    plt.title(\"Occupation of states wrt sites\")\n",
    "    plt.legend()\n",
    "\n",
    "def ferm_mat(mat) : \n",
    "    '''Input : SparsePauliOp JW matrix, uses function spinless_states_index\n",
    "    Output : Returns JW matrix in order of fermionic basis states'''\n",
    "    class_index = spinless_states_index(N)\n",
    "    #JW_mat = mat.to_matrix()\n",
    "    new_mat = np.zeros((2**N,2**N))\n",
    "    for i in range(2**N) : \n",
    "        for j in range(2**N) : \n",
    "            new_mat[i][j] = mat[class_index[i]][class_index[j]]\n",
    "    return new_mat"
   ]
  },
  {
   "cell_type": "code",
   "execution_count": 13,
   "id": "2eb53c90",
   "metadata": {},
   "outputs": [],
   "source": [
    "N =5\n",
    "r=2\n",
    "dim = spinless_sub_dim(N,r)\n",
    "e=[1]*N\n",
    "\n",
    "t = 7\n",
    "#e = np.array(range(N))\n",
    "\n",
    "# e[N//4] = -40\n",
    "# e[3*N//4] = -40\n",
    "\n",
    "# for i in range(int(dim/2)) : \n",
    "#     e[2*i] = 3\n",
    "\n",
    "# delta = 10\n",
    "# e = [random.uniform(-delta,delta) for _ in range(N)]\n",
    "\n",
    "H,eig,vec= tb0_model(N,r,e,t)\n",
    "basis_set = spinless_basis(N,r)\n",
    "\n",
    "#basis = basis_set[2]\n"
   ]
  },
  {
   "cell_type": "code",
   "execution_count": 11,
   "id": "dfdf18ac",
   "metadata": {},
   "outputs": [],
   "source": [
    "# eigval_jw, eigvec_jw = np.linalg.eig()"
   ]
  },
  {
   "cell_type": "code",
   "execution_count": 14,
   "id": "f0e0b434",
   "metadata": {},
   "outputs": [],
   "source": [
    "sub_eigval = []\n",
    "sub_eigvec = []\n",
    "for r in range(N+1) : \n",
    "    sub_eigval.append(tb0_model(N,r,e,t)[1])\n",
    "    sub_eigvec.append(tb0_model(N,r,e,t)[2])\n",
    "full_eigval, full_eigvec = np.linalg.eigh(tb0_full(N,e,t))"
   ]
  },
  {
   "cell_type": "code",
   "execution_count": 15,
   "id": "c919fbbf",
   "metadata": {},
   "outputs": [
    {
     "data": {
      "text/plain": [
       "[0,\n",
       " array([-10.32623792, -10.32623792,   5.32623792,   5.32623792,\n",
       "         15.        ]),\n",
       " array([-16.44263905, -16.32623792,  -6.8068687 ,  -0.96602404,\n",
       "         -0.67376208,   8.61598322,   9.        ,   9.        ,\n",
       "          9.        ,  24.59954857]),\n",
       " array([-15.57180027, -15.32623792,  -5.98200754,  -0.26079139,\n",
       "          0.32623792,   9.26363791,  10.        ,  10.        ,\n",
       "         10.        ,  25.55096129]),\n",
       " array([-8.64957743, -7.32623792,  7.15835976,  8.32623792, 17.49121767]),\n",
       " 5]"
      ]
     },
     "execution_count": 15,
     "metadata": {},
     "output_type": "execute_result"
    }
   ],
   "source": [
    "sub_eigval"
   ]
  },
  {
   "cell_type": "code",
   "execution_count": 12,
   "id": "ad84b53d",
   "metadata": {},
   "outputs": [
    {
     "data": {
      "text/plain": [
       "array([-6.        , -6.        , -5.67707825, -5.        ,  0.        ,\n",
       "        3.        , 15.        , 15.67707825])"
      ]
     },
     "execution_count": 12,
     "metadata": {},
     "output_type": "execute_result"
    }
   ],
   "source": [
    "full_eigval"
   ]
  },
  {
   "cell_type": "code",
   "execution_count": 13,
   "id": "e43915a0",
   "metadata": {},
   "outputs": [
    {
     "name": "stdout",
     "output_type": "stream",
     "text": [
      "[1]\n",
      "-----------------\n",
      "(0.0, -0.7071067811865476, 0.7071067811865475)\n",
      "-----------------\n",
      "(-0.8164965809277261, 0.40824829046386313, 0.408248290463863)\n",
      "-----------------\n",
      "(-0.5773502691896257, -0.5773502691896261, -0.577350269189626)\n",
      "-----------------\n",
      "(-0.8290459349857152, 0.3954003273162917, 0.39540032731629166)\n",
      "-----------------\n",
      "(0.0, -0.7071067811865476, 0.7071067811865475)\n",
      "-----------------\n",
      "(-0.5591805054574606, -0.5862240025435409, -0.5862240025435408)\n",
      "-----------------\n",
      "[1]\n",
      "-----------------\n"
     ]
    }
   ],
   "source": [
    "for sub_vec in sub_eigvec : \n",
    "    for vec in sub_vec : \n",
    "        print(vec)\n",
    "        print('-----------------')"
   ]
  },
  {
   "cell_type": "code",
   "execution_count": 14,
   "id": "b957462c",
   "metadata": {},
   "outputs": [
    {
     "name": "stdout",
     "output_type": "stream",
     "text": [
      "[-6.         -6.         -5.67707825 -5.          0.          3.\n",
      " 15.         15.67707825]\n",
      "[0.0, 0.0, -0.7071067811865476, 0.7071067811865475, 0.0, 0.0, 0.0, 0.0]\n",
      "-------------------------\n",
      "[-0.0, -0.8164965809277261, 0.40824829046386313, 0.408248290463863, -0.0, -0.0, -0.0, -0.0]\n",
      "-------------------------\n",
      "[-0.0, -0.0, -0.0, -0.0, -0.8290459349857152, 0.3954003273162917, 0.39540032731629166, -0.0]\n",
      "-------------------------\n",
      "[0.0, 0.0, 0.0, 0.0, 0.0, -0.7071067811865476, 0.7071067811865475, 0.0]\n",
      "-------------------------\n",
      "[1.0, 0.0, 0.0, 0.0, 0.0, 0.0, 0.0, 0.0]\n",
      "-------------------------\n",
      "[0.0, 0.0, 0.0, 0.0, 0.0, 0.0, 0.0, 1.0]\n",
      "-------------------------\n",
      "[0.0, -0.5773502691896257, -0.5773502691896261, -0.577350269189626, 0.0, 0.0, 0.0, 0.0]\n",
      "-------------------------\n",
      "[0.0, 0.0, 0.0, 0.0, -0.5591805054574606, -0.5862240025435409, -0.5862240025435408, 0.0]\n",
      "-------------------------\n"
     ]
    }
   ],
   "source": [
    "print(full_eigval)\n",
    "new_vec = list(zip(*full_eigvec))\n",
    "for vec in new_vec : \n",
    "    #new_list = [x for x in vec if x != 0]\n",
    "    print(list(vec))\n",
    "    print('-------------------------')\n",
    "    \n"
   ]
  },
  {
   "cell_type": "code",
   "execution_count": 11,
   "id": "43eaf6c6",
   "metadata": {},
   "outputs": [
    {
     "name": "stdout",
     "output_type": "stream",
     "text": [
      "[[False, False, False, False, False, False, False, False, False, False]]\n",
      "[[True, False, False, False, False, False, False, False, False, False], [False, True, False, False, False, False, False, False, False, False], [False, False, True, False, False, False, False, False, False, False], [False, False, False, True, False, False, False, False, False, False], [False, False, False, False, True, False, False, False, False, False], [False, False, False, False, False, True, False, False, False, False], [False, False, False, False, False, False, True, False, False, False], [False, False, False, False, False, False, False, True, False, False], [False, False, False, False, False, False, False, False, True, False], [False, False, False, False, False, False, False, False, False, True]]\n",
      "[[True, True, False, False, False, False, False, False, False, False], [True, False, True, False, False, False, False, False, False, False], [True, False, False, True, False, False, False, False, False, False], [True, False, False, False, True, False, False, False, False, False], [True, False, False, False, False, True, False, False, False, False], [True, False, False, False, False, False, True, False, False, False], [True, False, False, False, False, False, False, True, False, False], [True, False, False, False, False, False, False, False, True, False], [True, False, False, False, False, False, False, False, False, True], [False, True, True, False, False, False, False, False, False, False], [False, True, False, True, False, False, False, False, False, False], [False, True, False, False, True, False, False, False, False, False], [False, True, False, False, False, True, False, False, False, False], [False, True, False, False, False, False, True, False, False, False], [False, True, False, False, False, False, False, True, False, False], [False, True, False, False, False, False, False, False, True, False], [False, True, False, False, False, False, False, False, False, True], [False, False, True, True, False, False, False, False, False, False], [False, False, True, False, True, False, False, False, False, False], [False, False, True, False, False, True, False, False, False, False], [False, False, True, False, False, False, True, False, False, False], [False, False, True, False, False, False, False, True, False, False], [False, False, True, False, False, False, False, False, True, False], [False, False, True, False, False, False, False, False, False, True], [False, False, False, True, True, False, False, False, False, False], [False, False, False, True, False, True, False, False, False, False], [False, False, False, True, False, False, True, False, False, False], [False, False, False, True, False, False, False, True, False, False], [False, False, False, True, False, False, False, False, True, False], [False, False, False, True, False, False, False, False, False, True], [False, False, False, False, True, True, False, False, False, False], [False, False, False, False, True, False, True, False, False, False], [False, False, False, False, True, False, False, True, False, False], [False, False, False, False, True, False, False, False, True, False], [False, False, False, False, True, False, False, False, False, True], [False, False, False, False, False, True, True, False, False, False], [False, False, False, False, False, True, False, True, False, False], [False, False, False, False, False, True, False, False, True, False], [False, False, False, False, False, True, False, False, False, True], [False, False, False, False, False, False, True, True, False, False], [False, False, False, False, False, False, True, False, True, False], [False, False, False, False, False, False, True, False, False, True], [False, False, False, False, False, False, False, True, True, False], [False, False, False, False, False, False, False, True, False, True], [False, False, False, False, False, False, False, False, True, True]]\n",
      "[[True, True, True, False, False, False, False, False, False, False], [True, True, False, True, False, False, False, False, False, False], [True, True, False, False, True, False, False, False, False, False], [True, True, False, False, False, True, False, False, False, False], [True, True, False, False, False, False, True, False, False, False], [True, True, False, False, False, False, False, True, False, False], [True, True, False, False, False, False, False, False, True, False], [True, True, False, False, False, False, False, False, False, True], [True, False, True, True, False, False, False, False, False, False], [True, False, True, False, True, False, False, False, False, False], [True, False, True, False, False, True, False, False, False, False], [True, False, True, False, False, False, True, False, False, False], [True, False, True, False, False, False, False, True, False, False], [True, False, True, False, False, False, False, False, True, False], [True, False, True, False, False, False, False, False, False, True], [True, False, False, True, True, False, False, False, False, False], [True, False, False, True, False, True, False, False, False, False], [True, False, False, True, False, False, True, False, False, False], [True, False, False, True, False, False, False, True, False, False], [True, False, False, True, False, False, False, False, True, False], [True, False, False, True, False, False, False, False, False, True], [True, False, False, False, True, True, False, False, False, False], [True, False, False, False, True, False, True, False, False, False], [True, False, False, False, True, False, False, True, False, False], [True, False, False, False, True, False, False, False, True, False], [True, False, False, False, True, False, False, False, False, True], [True, False, False, False, False, True, True, False, False, False], [True, False, False, False, False, True, False, True, False, False], [True, False, False, False, False, True, False, False, True, False], [True, False, False, False, False, True, False, False, False, True], [True, False, False, False, False, False, True, True, False, False], [True, False, False, False, False, False, True, False, True, False], [True, False, False, False, False, False, True, False, False, True], [True, False, False, False, False, False, False, True, True, False], [True, False, False, False, False, False, False, True, False, True], [True, False, False, False, False, False, False, False, True, True], [False, True, True, True, False, False, False, False, False, False], [False, True, True, False, True, False, False, False, False, False], [False, True, True, False, False, True, False, False, False, False], [False, True, True, False, False, False, True, False, False, False], [False, True, True, False, False, False, False, True, False, False], [False, True, True, False, False, False, False, False, True, False], [False, True, True, False, False, False, False, False, False, True], [False, True, False, True, True, False, False, False, False, False], [False, True, False, True, False, True, False, False, False, False], [False, True, False, True, False, False, True, False, False, False], [False, True, False, True, False, False, False, True, False, False], [False, True, False, True, False, False, False, False, True, False], [False, True, False, True, False, False, False, False, False, True], [False, True, False, False, True, True, False, False, False, False], [False, True, False, False, True, False, True, False, False, False], [False, True, False, False, True, False, False, True, False, False], [False, True, False, False, True, False, False, False, True, False], [False, True, False, False, True, False, False, False, False, True], [False, True, False, False, False, True, True, False, False, False], [False, True, False, False, False, True, False, True, False, False], [False, True, False, False, False, True, False, False, True, False], [False, True, False, False, False, True, False, False, False, True], [False, True, False, False, False, False, True, True, False, False], [False, True, False, False, False, False, True, False, True, False], [False, True, False, False, False, False, True, False, False, True], [False, True, False, False, False, False, False, True, True, False], [False, True, False, False, False, False, False, True, False, True], [False, True, False, False, False, False, False, False, True, True], [False, False, True, True, True, False, False, False, False, False], [False, False, True, True, False, True, False, False, False, False], [False, False, True, True, False, False, True, False, False, False], [False, False, True, True, False, False, False, True, False, False], [False, False, True, True, False, False, False, False, True, False], [False, False, True, True, False, False, False, False, False, True], [False, False, True, False, True, True, False, False, False, False], [False, False, True, False, True, False, True, False, False, False], [False, False, True, False, True, False, False, True, False, False], [False, False, True, False, True, False, False, False, True, False], [False, False, True, False, True, False, False, False, False, True], [False, False, True, False, False, True, True, False, False, False], [False, False, True, False, False, True, False, True, False, False], [False, False, True, False, False, True, False, False, True, False], [False, False, True, False, False, True, False, False, False, True], [False, False, True, False, False, False, True, True, False, False], [False, False, True, False, False, False, True, False, True, False], [False, False, True, False, False, False, True, False, False, True], [False, False, True, False, False, False, False, True, True, False], [False, False, True, False, False, False, False, True, False, True], [False, False, True, False, False, False, False, False, True, True], [False, False, False, True, True, True, False, False, False, False], [False, False, False, True, True, False, True, False, False, False], [False, False, False, True, True, False, False, True, False, False], [False, False, False, True, True, False, False, False, True, False], [False, False, False, True, True, False, False, False, False, True], [False, False, False, True, False, True, True, False, False, False], [False, False, False, True, False, True, False, True, False, False], [False, False, False, True, False, True, False, False, True, False], [False, False, False, True, False, True, False, False, False, True], [False, False, False, True, False, False, True, True, False, False], [False, False, False, True, False, False, True, False, True, False], [False, False, False, True, False, False, True, False, False, True], [False, False, False, True, False, False, False, True, True, False], [False, False, False, True, False, False, False, True, False, True], [False, False, False, True, False, False, False, False, True, True], [False, False, False, False, True, True, True, False, False, False], [False, False, False, False, True, True, False, True, False, False], [False, False, False, False, True, True, False, False, True, False], [False, False, False, False, True, True, False, False, False, True], [False, False, False, False, True, False, True, True, False, False], [False, False, False, False, True, False, True, False, True, False], [False, False, False, False, True, False, True, False, False, True], [False, False, False, False, True, False, False, True, True, False], [False, False, False, False, True, False, False, True, False, True], [False, False, False, False, True, False, False, False, True, True], [False, False, False, False, False, True, True, True, False, False], [False, False, False, False, False, True, True, False, True, False], [False, False, False, False, False, True, True, False, False, True], [False, False, False, False, False, True, False, True, True, False], [False, False, False, False, False, True, False, True, False, True], [False, False, False, False, False, True, False, False, True, True], [False, False, False, False, False, False, True, True, True, False], [False, False, False, False, False, False, True, True, False, True], [False, False, False, False, False, False, True, False, True, True], [False, False, False, False, False, False, False, True, True, True]]\n",
      "[[True, True, True, True, False, False, False, False, False, False], [True, True, True, False, True, False, False, False, False, False], [True, True, True, False, False, True, False, False, False, False], [True, True, True, False, False, False, True, False, False, False], [True, True, True, False, False, False, False, True, False, False], [True, True, True, False, False, False, False, False, True, False], [True, True, True, False, False, False, False, False, False, True], [True, True, False, True, True, False, False, False, False, False], [True, True, False, True, False, True, False, False, False, False], [True, True, False, True, False, False, True, False, False, False], [True, True, False, True, False, False, False, True, False, False], [True, True, False, True, False, False, False, False, True, False], [True, True, False, True, False, False, False, False, False, True], [True, True, False, False, True, True, False, False, False, False], [True, True, False, False, True, False, True, False, False, False], [True, True, False, False, True, False, False, True, False, False], [True, True, False, False, True, False, False, False, True, False], [True, True, False, False, True, False, False, False, False, True], [True, True, False, False, False, True, True, False, False, False], [True, True, False, False, False, True, False, True, False, False], [True, True, False, False, False, True, False, False, True, False], [True, True, False, False, False, True, False, False, False, True], [True, True, False, False, False, False, True, True, False, False], [True, True, False, False, False, False, True, False, True, False], [True, True, False, False, False, False, True, False, False, True], [True, True, False, False, False, False, False, True, True, False], [True, True, False, False, False, False, False, True, False, True], [True, True, False, False, False, False, False, False, True, True], [True, False, True, True, True, False, False, False, False, False], [True, False, True, True, False, True, False, False, False, False], [True, False, True, True, False, False, True, False, False, False], [True, False, True, True, False, False, False, True, False, False], [True, False, True, True, False, False, False, False, True, False], [True, False, True, True, False, False, False, False, False, True], [True, False, True, False, True, True, False, False, False, False], [True, False, True, False, True, False, True, False, False, False], [True, False, True, False, True, False, False, True, False, False], [True, False, True, False, True, False, False, False, True, False], [True, False, True, False, True, False, False, False, False, True], [True, False, True, False, False, True, True, False, False, False], [True, False, True, False, False, True, False, True, False, False], [True, False, True, False, False, True, False, False, True, False], [True, False, True, False, False, True, False, False, False, True], [True, False, True, False, False, False, True, True, False, False], [True, False, True, False, False, False, True, False, True, False], [True, False, True, False, False, False, True, False, False, True], [True, False, True, False, False, False, False, True, True, False], [True, False, True, False, False, False, False, True, False, True], [True, False, True, False, False, False, False, False, True, True], [True, False, False, True, True, True, False, False, False, False], [True, False, False, True, True, False, True, False, False, False], [True, False, False, True, True, False, False, True, False, False], [True, False, False, True, True, False, False, False, True, False], [True, False, False, True, True, False, False, False, False, True], [True, False, False, True, False, True, True, False, False, False], [True, False, False, True, False, True, False, True, False, False], [True, False, False, True, False, True, False, False, True, False], [True, False, False, True, False, True, False, False, False, True], [True, False, False, True, False, False, True, True, False, False], [True, False, False, True, False, False, True, False, True, False], [True, False, False, True, False, False, True, False, False, True], [True, False, False, True, False, False, False, True, True, False], [True, False, False, True, False, False, False, True, False, True], [True, False, False, True, False, False, False, False, True, True], [True, False, False, False, True, True, True, False, False, False], [True, False, False, False, True, True, False, True, False, False], [True, False, False, False, True, True, False, False, True, False], [True, False, False, False, True, True, False, False, False, True], [True, False, False, False, True, False, True, True, False, False], [True, False, False, False, True, False, True, False, True, False], [True, False, False, False, True, False, True, False, False, True], [True, False, False, False, True, False, False, True, True, False], [True, False, False, False, True, False, False, True, False, True], [True, False, False, False, True, False, False, False, True, True], [True, False, False, False, False, True, True, True, False, False], [True, False, False, False, False, True, True, False, True, False], [True, False, False, False, False, True, True, False, False, True], [True, False, False, False, False, True, False, True, True, False], [True, False, False, False, False, True, False, True, False, True], [True, False, False, False, False, True, False, False, True, True], [True, False, False, False, False, False, True, True, True, False], [True, False, False, False, False, False, True, True, False, True], [True, False, False, False, False, False, True, False, True, True], [True, False, False, False, False, False, False, True, True, True], [False, True, True, True, True, False, False, False, False, False], [False, True, True, True, False, True, False, False, False, False], [False, True, True, True, False, False, True, False, False, False], [False, True, True, True, False, False, False, True, False, False], [False, True, True, True, False, False, False, False, True, False], [False, True, True, True, False, False, False, False, False, True], [False, True, True, False, True, True, False, False, False, False], [False, True, True, False, True, False, True, False, False, False], [False, True, True, False, True, False, False, True, False, False], [False, True, True, False, True, False, False, False, True, False], [False, True, True, False, True, False, False, False, False, True], [False, True, True, False, False, True, True, False, False, False], [False, True, True, False, False, True, False, True, False, False], [False, True, True, False, False, True, False, False, True, False], [False, True, True, False, False, True, False, False, False, True], [False, True, True, False, False, False, True, True, False, False], [False, True, True, False, False, False, True, False, True, False], [False, True, True, False, False, False, True, False, False, True], [False, True, True, False, False, False, False, True, True, False], [False, True, True, False, False, False, False, True, False, True], [False, True, True, False, False, False, False, False, True, True], [False, True, False, True, True, True, False, False, False, False], [False, True, False, True, True, False, True, False, False, False], [False, True, False, True, True, False, False, True, False, False], [False, True, False, True, True, False, False, False, True, False], [False, True, False, True, True, False, False, False, False, True], [False, True, False, True, False, True, True, False, False, False], [False, True, False, True, False, True, False, True, False, False], [False, True, False, True, False, True, False, False, True, False], [False, True, False, True, False, True, False, False, False, True], [False, True, False, True, False, False, True, True, False, False], [False, True, False, True, False, False, True, False, True, False], [False, True, False, True, False, False, True, False, False, True], [False, True, False, True, False, False, False, True, True, False], [False, True, False, True, False, False, False, True, False, True], [False, True, False, True, False, False, False, False, True, True], [False, True, False, False, True, True, True, False, False, False], [False, True, False, False, True, True, False, True, False, False], [False, True, False, False, True, True, False, False, True, False], [False, True, False, False, True, True, False, False, False, True], [False, True, False, False, True, False, True, True, False, False], [False, True, False, False, True, False, True, False, True, False], [False, True, False, False, True, False, True, False, False, True], [False, True, False, False, True, False, False, True, True, False], [False, True, False, False, True, False, False, True, False, True], [False, True, False, False, True, False, False, False, True, True], [False, True, False, False, False, True, True, True, False, False], [False, True, False, False, False, True, True, False, True, False], [False, True, False, False, False, True, True, False, False, True], [False, True, False, False, False, True, False, True, True, False], [False, True, False, False, False, True, False, True, False, True], [False, True, False, False, False, True, False, False, True, True], [False, True, False, False, False, False, True, True, True, False], [False, True, False, False, False, False, True, True, False, True], [False, True, False, False, False, False, True, False, True, True], [False, True, False, False, False, False, False, True, True, True], [False, False, True, True, True, True, False, False, False, False], [False, False, True, True, True, False, True, False, False, False], [False, False, True, True, True, False, False, True, False, False], [False, False, True, True, True, False, False, False, True, False], [False, False, True, True, True, False, False, False, False, True], [False, False, True, True, False, True, True, False, False, False], [False, False, True, True, False, True, False, True, False, False], [False, False, True, True, False, True, False, False, True, False], [False, False, True, True, False, True, False, False, False, True], [False, False, True, True, False, False, True, True, False, False], [False, False, True, True, False, False, True, False, True, False], [False, False, True, True, False, False, True, False, False, True], [False, False, True, True, False, False, False, True, True, False], [False, False, True, True, False, False, False, True, False, True], [False, False, True, True, False, False, False, False, True, True], [False, False, True, False, True, True, True, False, False, False], [False, False, True, False, True, True, False, True, False, False], [False, False, True, False, True, True, False, False, True, False], [False, False, True, False, True, True, False, False, False, True], [False, False, True, False, True, False, True, True, False, False], [False, False, True, False, True, False, True, False, True, False], [False, False, True, False, True, False, True, False, False, True], [False, False, True, False, True, False, False, True, True, False], [False, False, True, False, True, False, False, True, False, True], [False, False, True, False, True, False, False, False, True, True], [False, False, True, False, False, True, True, True, False, False], [False, False, True, False, False, True, True, False, True, False], [False, False, True, False, False, True, True, False, False, True], [False, False, True, False, False, True, False, True, True, False], [False, False, True, False, False, True, False, True, False, True], [False, False, True, False, False, True, False, False, True, True], [False, False, True, False, False, False, True, True, True, False], [False, False, True, False, False, False, True, True, False, True], [False, False, True, False, False, False, True, False, True, True], [False, False, True, False, False, False, False, True, True, True], [False, False, False, True, True, True, True, False, False, False], [False, False, False, True, True, True, False, True, False, False], [False, False, False, True, True, True, False, False, True, False], [False, False, False, True, True, True, False, False, False, True], [False, False, False, True, True, False, True, True, False, False], [False, False, False, True, True, False, True, False, True, False], [False, False, False, True, True, False, True, False, False, True], [False, False, False, True, True, False, False, True, True, False], [False, False, False, True, True, False, False, True, False, True], [False, False, False, True, True, False, False, False, True, True], [False, False, False, True, False, True, True, True, False, False], [False, False, False, True, False, True, True, False, True, False], [False, False, False, True, False, True, True, False, False, True], [False, False, False, True, False, True, False, True, True, False], [False, False, False, True, False, True, False, True, False, True], [False, False, False, True, False, True, False, False, True, True], [False, False, False, True, False, False, True, True, True, False], [False, False, False, True, False, False, True, True, False, True], [False, False, False, True, False, False, True, False, True, True], [False, False, False, True, False, False, False, True, True, True], [False, False, False, False, True, True, True, True, False, False], [False, False, False, False, True, True, True, False, True, False], [False, False, False, False, True, True, True, False, False, True], [False, False, False, False, True, True, False, True, True, False], [False, False, False, False, True, True, False, True, False, True], [False, False, False, False, True, True, False, False, True, True], [False, False, False, False, True, False, True, True, True, False], [False, False, False, False, True, False, True, True, False, True], [False, False, False, False, True, False, True, False, True, True], [False, False, False, False, True, False, False, True, True, True], [False, False, False, False, False, True, True, True, True, False], [False, False, False, False, False, True, True, True, False, True], [False, False, False, False, False, True, True, False, True, True], [False, False, False, False, False, True, False, True, True, True], [False, False, False, False, False, False, True, True, True, True]]\n",
      "[[True, True, True, True, True, False, False, False, False, False], [True, True, True, True, False, True, False, False, False, False], [True, True, True, True, False, False, True, False, False, False], [True, True, True, True, False, False, False, True, False, False], [True, True, True, True, False, False, False, False, True, False], [True, True, True, True, False, False, False, False, False, True], [True, True, True, False, True, True, False, False, False, False], [True, True, True, False, True, False, True, False, False, False], [True, True, True, False, True, False, False, True, False, False], [True, True, True, False, True, False, False, False, True, False], [True, True, True, False, True, False, False, False, False, True], [True, True, True, False, False, True, True, False, False, False], [True, True, True, False, False, True, False, True, False, False], [True, True, True, False, False, True, False, False, True, False], [True, True, True, False, False, True, False, False, False, True], [True, True, True, False, False, False, True, True, False, False], [True, True, True, False, False, False, True, False, True, False], [True, True, True, False, False, False, True, False, False, True], [True, True, True, False, False, False, False, True, True, False], [True, True, True, False, False, False, False, True, False, True], [True, True, True, False, False, False, False, False, True, True], [True, True, False, True, True, True, False, False, False, False], [True, True, False, True, True, False, True, False, False, False], [True, True, False, True, True, False, False, True, False, False], [True, True, False, True, True, False, False, False, True, False], [True, True, False, True, True, False, False, False, False, True], [True, True, False, True, False, True, True, False, False, False], [True, True, False, True, False, True, False, True, False, False], [True, True, False, True, False, True, False, False, True, False], [True, True, False, True, False, True, False, False, False, True], [True, True, False, True, False, False, True, True, False, False], [True, True, False, True, False, False, True, False, True, False], [True, True, False, True, False, False, True, False, False, True], [True, True, False, True, False, False, False, True, True, False], [True, True, False, True, False, False, False, True, False, True], [True, True, False, True, False, False, False, False, True, True], [True, True, False, False, True, True, True, False, False, False], [True, True, False, False, True, True, False, True, False, False], [True, True, False, False, True, True, False, False, True, False], [True, True, False, False, True, True, False, False, False, True], [True, True, False, False, True, False, True, True, False, False], [True, True, False, False, True, False, True, False, True, False], [True, True, False, False, True, False, True, False, False, True], [True, True, False, False, True, False, False, True, True, False], [True, True, False, False, True, False, False, True, False, True], [True, True, False, False, True, False, False, False, True, True], [True, True, False, False, False, True, True, True, False, False], [True, True, False, False, False, True, True, False, True, False], [True, True, False, False, False, True, True, False, False, True], [True, True, False, False, False, True, False, True, True, False], [True, True, False, False, False, True, False, True, False, True], [True, True, False, False, False, True, False, False, True, True], [True, True, False, False, False, False, True, True, True, False], [True, True, False, False, False, False, True, True, False, True], [True, True, False, False, False, False, True, False, True, True], [True, True, False, False, False, False, False, True, True, True], [True, False, True, True, True, True, False, False, False, False], [True, False, True, True, True, False, True, False, False, False], [True, False, True, True, True, False, False, True, False, False], [True, False, True, True, True, False, False, False, True, False], [True, False, True, True, True, False, False, False, False, True], [True, False, True, True, False, True, True, False, False, False], [True, False, True, True, False, True, False, True, False, False], [True, False, True, True, False, True, False, False, True, False], [True, False, True, True, False, True, False, False, False, True], [True, False, True, True, False, False, True, True, False, False], [True, False, True, True, False, False, True, False, True, False], [True, False, True, True, False, False, True, False, False, True], [True, False, True, True, False, False, False, True, True, False], [True, False, True, True, False, False, False, True, False, True], [True, False, True, True, False, False, False, False, True, True], [True, False, True, False, True, True, True, False, False, False], [True, False, True, False, True, True, False, True, False, False], [True, False, True, False, True, True, False, False, True, False], [True, False, True, False, True, True, False, False, False, True], [True, False, True, False, True, False, True, True, False, False], [True, False, True, False, True, False, True, False, True, False], [True, False, True, False, True, False, True, False, False, True], [True, False, True, False, True, False, False, True, True, False], [True, False, True, False, True, False, False, True, False, True], [True, False, True, False, True, False, False, False, True, True], [True, False, True, False, False, True, True, True, False, False], [True, False, True, False, False, True, True, False, True, False], [True, False, True, False, False, True, True, False, False, True], [True, False, True, False, False, True, False, True, True, False], [True, False, True, False, False, True, False, True, False, True], [True, False, True, False, False, True, False, False, True, True], [True, False, True, False, False, False, True, True, True, False], [True, False, True, False, False, False, True, True, False, True], [True, False, True, False, False, False, True, False, True, True], [True, False, True, False, False, False, False, True, True, True], [True, False, False, True, True, True, True, False, False, False], [True, False, False, True, True, True, False, True, False, False], [True, False, False, True, True, True, False, False, True, False], [True, False, False, True, True, True, False, False, False, True], [True, False, False, True, True, False, True, True, False, False], [True, False, False, True, True, False, True, False, True, False], [True, False, False, True, True, False, True, False, False, True], [True, False, False, True, True, False, False, True, True, False], [True, False, False, True, True, False, False, True, False, True], [True, False, False, True, True, False, False, False, True, True], [True, False, False, True, False, True, True, True, False, False], [True, False, False, True, False, True, True, False, True, False], [True, False, False, True, False, True, True, False, False, True], [True, False, False, True, False, True, False, True, True, False], [True, False, False, True, False, True, False, True, False, True], [True, False, False, True, False, True, False, False, True, True], [True, False, False, True, False, False, True, True, True, False], [True, False, False, True, False, False, True, True, False, True], [True, False, False, True, False, False, True, False, True, True], [True, False, False, True, False, False, False, True, True, True], [True, False, False, False, True, True, True, True, False, False], [True, False, False, False, True, True, True, False, True, False], [True, False, False, False, True, True, True, False, False, True], [True, False, False, False, True, True, False, True, True, False], [True, False, False, False, True, True, False, True, False, True], [True, False, False, False, True, True, False, False, True, True], [True, False, False, False, True, False, True, True, True, False], [True, False, False, False, True, False, True, True, False, True], [True, False, False, False, True, False, True, False, True, True], [True, False, False, False, True, False, False, True, True, True], [True, False, False, False, False, True, True, True, True, False], [True, False, False, False, False, True, True, True, False, True], [True, False, False, False, False, True, True, False, True, True], [True, False, False, False, False, True, False, True, True, True], [True, False, False, False, False, False, True, True, True, True], [False, True, True, True, True, True, False, False, False, False], [False, True, True, True, True, False, True, False, False, False], [False, True, True, True, True, False, False, True, False, False], [False, True, True, True, True, False, False, False, True, False], [False, True, True, True, True, False, False, False, False, True], [False, True, True, True, False, True, True, False, False, False], [False, True, True, True, False, True, False, True, False, False], [False, True, True, True, False, True, False, False, True, False], [False, True, True, True, False, True, False, False, False, True], [False, True, True, True, False, False, True, True, False, False], [False, True, True, True, False, False, True, False, True, False], [False, True, True, True, False, False, True, False, False, True], [False, True, True, True, False, False, False, True, True, False], [False, True, True, True, False, False, False, True, False, True], [False, True, True, True, False, False, False, False, True, True], [False, True, True, False, True, True, True, False, False, False], [False, True, True, False, True, True, False, True, False, False], [False, True, True, False, True, True, False, False, True, False], [False, True, True, False, True, True, False, False, False, True], [False, True, True, False, True, False, True, True, False, False], [False, True, True, False, True, False, True, False, True, False], [False, True, True, False, True, False, True, False, False, True], [False, True, True, False, True, False, False, True, True, False], [False, True, True, False, True, False, False, True, False, True], [False, True, True, False, True, False, False, False, True, True], [False, True, True, False, False, True, True, True, False, False], [False, True, True, False, False, True, True, False, True, False], [False, True, True, False, False, True, True, False, False, True], [False, True, True, False, False, True, False, True, True, False], [False, True, True, False, False, True, False, True, False, True], [False, True, True, False, False, True, False, False, True, True], [False, True, True, False, False, False, True, True, True, False], [False, True, True, False, False, False, True, True, False, True], [False, True, True, False, False, False, True, False, True, True], [False, True, True, False, False, False, False, True, True, True], [False, True, False, True, True, True, True, False, False, False], [False, True, False, True, True, True, False, True, False, False], [False, True, False, True, True, True, False, False, True, False], [False, True, False, True, True, True, False, False, False, True], [False, True, False, True, True, False, True, True, False, False], [False, True, False, True, True, False, True, False, True, False], [False, True, False, True, True, False, True, False, False, True], [False, True, False, True, True, False, False, True, True, False], [False, True, False, True, True, False, False, True, False, True], [False, True, False, True, True, False, False, False, True, True], [False, True, False, True, False, True, True, True, False, False], [False, True, False, True, False, True, True, False, True, False], [False, True, False, True, False, True, True, False, False, True], [False, True, False, True, False, True, False, True, True, False], [False, True, False, True, False, True, False, True, False, True], [False, True, False, True, False, True, False, False, True, True], [False, True, False, True, False, False, True, True, True, False], [False, True, False, True, False, False, True, True, False, True], [False, True, False, True, False, False, True, False, True, True], [False, True, False, True, False, False, False, True, True, True], [False, True, False, False, True, True, True, True, False, False], [False, True, False, False, True, True, True, False, True, False], [False, True, False, False, True, True, True, False, False, True], [False, True, False, False, True, True, False, True, True, False], [False, True, False, False, True, True, False, True, False, True], [False, True, False, False, True, True, False, False, True, True], [False, True, False, False, True, False, True, True, True, False], [False, True, False, False, True, False, True, True, False, True], [False, True, False, False, True, False, True, False, True, True], [False, True, False, False, True, False, False, True, True, True], [False, True, False, False, False, True, True, True, True, False], [False, True, False, False, False, True, True, True, False, True], [False, True, False, False, False, True, True, False, True, True], [False, True, False, False, False, True, False, True, True, True], [False, True, False, False, False, False, True, True, True, True], [False, False, True, True, True, True, True, False, False, False], [False, False, True, True, True, True, False, True, False, False], [False, False, True, True, True, True, False, False, True, False], [False, False, True, True, True, True, False, False, False, True], [False, False, True, True, True, False, True, True, False, False], [False, False, True, True, True, False, True, False, True, False], [False, False, True, True, True, False, True, False, False, True], [False, False, True, True, True, False, False, True, True, False], [False, False, True, True, True, False, False, True, False, True], [False, False, True, True, True, False, False, False, True, True], [False, False, True, True, False, True, True, True, False, False], [False, False, True, True, False, True, True, False, True, False], [False, False, True, True, False, True, True, False, False, True], [False, False, True, True, False, True, False, True, True, False], [False, False, True, True, False, True, False, True, False, True], [False, False, True, True, False, True, False, False, True, True], [False, False, True, True, False, False, True, True, True, False], [False, False, True, True, False, False, True, True, False, True], [False, False, True, True, False, False, True, False, True, True], [False, False, True, True, False, False, False, True, True, True], [False, False, True, False, True, True, True, True, False, False], [False, False, True, False, True, True, True, False, True, False], [False, False, True, False, True, True, True, False, False, True], [False, False, True, False, True, True, False, True, True, False], [False, False, True, False, True, True, False, True, False, True], [False, False, True, False, True, True, False, False, True, True], [False, False, True, False, True, False, True, True, True, False], [False, False, True, False, True, False, True, True, False, True], [False, False, True, False, True, False, True, False, True, True], [False, False, True, False, True, False, False, True, True, True], [False, False, True, False, False, True, True, True, True, False], [False, False, True, False, False, True, True, True, False, True], [False, False, True, False, False, True, True, False, True, True], [False, False, True, False, False, True, False, True, True, True], [False, False, True, False, False, False, True, True, True, True], [False, False, False, True, True, True, True, True, False, False], [False, False, False, True, True, True, True, False, True, False], [False, False, False, True, True, True, True, False, False, True], [False, False, False, True, True, True, False, True, True, False], [False, False, False, True, True, True, False, True, False, True], [False, False, False, True, True, True, False, False, True, True], [False, False, False, True, True, False, True, True, True, False], [False, False, False, True, True, False, True, True, False, True], [False, False, False, True, True, False, True, False, True, True], [False, False, False, True, True, False, False, True, True, True], [False, False, False, True, False, True, True, True, True, False], [False, False, False, True, False, True, True, True, False, True], [False, False, False, True, False, True, True, False, True, True], [False, False, False, True, False, True, False, True, True, True], [False, False, False, True, False, False, True, True, True, True], [False, False, False, False, True, True, True, True, True, False], [False, False, False, False, True, True, True, True, False, True], [False, False, False, False, True, True, True, False, True, True], [False, False, False, False, True, True, False, True, True, True], [False, False, False, False, True, False, True, True, True, True], [False, False, False, False, False, True, True, True, True, True]]\n",
      "[[True, True, True, True, True, True, False, False, False, False], [True, True, True, True, True, False, True, False, False, False], [True, True, True, True, True, False, False, True, False, False], [True, True, True, True, True, False, False, False, True, False], [True, True, True, True, True, False, False, False, False, True], [True, True, True, True, False, True, True, False, False, False], [True, True, True, True, False, True, False, True, False, False], [True, True, True, True, False, True, False, False, True, False], [True, True, True, True, False, True, False, False, False, True], [True, True, True, True, False, False, True, True, False, False], [True, True, True, True, False, False, True, False, True, False], [True, True, True, True, False, False, True, False, False, True], [True, True, True, True, False, False, False, True, True, False], [True, True, True, True, False, False, False, True, False, True], [True, True, True, True, False, False, False, False, True, True], [True, True, True, False, True, True, True, False, False, False], [True, True, True, False, True, True, False, True, False, False], [True, True, True, False, True, True, False, False, True, False], [True, True, True, False, True, True, False, False, False, True], [True, True, True, False, True, False, True, True, False, False], [True, True, True, False, True, False, True, False, True, False], [True, True, True, False, True, False, True, False, False, True], [True, True, True, False, True, False, False, True, True, False], [True, True, True, False, True, False, False, True, False, True], [True, True, True, False, True, False, False, False, True, True], [True, True, True, False, False, True, True, True, False, False], [True, True, True, False, False, True, True, False, True, False], [True, True, True, False, False, True, True, False, False, True], [True, True, True, False, False, True, False, True, True, False], [True, True, True, False, False, True, False, True, False, True], [True, True, True, False, False, True, False, False, True, True], [True, True, True, False, False, False, True, True, True, False], [True, True, True, False, False, False, True, True, False, True], [True, True, True, False, False, False, True, False, True, True], [True, True, True, False, False, False, False, True, True, True], [True, True, False, True, True, True, True, False, False, False], [True, True, False, True, True, True, False, True, False, False], [True, True, False, True, True, True, False, False, True, False], [True, True, False, True, True, True, False, False, False, True], [True, True, False, True, True, False, True, True, False, False], [True, True, False, True, True, False, True, False, True, False], [True, True, False, True, True, False, True, False, False, True], [True, True, False, True, True, False, False, True, True, False], [True, True, False, True, True, False, False, True, False, True], [True, True, False, True, True, False, False, False, True, True], [True, True, False, True, False, True, True, True, False, False], [True, True, False, True, False, True, True, False, True, False], [True, True, False, True, False, True, True, False, False, True], [True, True, False, True, False, True, False, True, True, False], [True, True, False, True, False, True, False, True, False, True], [True, True, False, True, False, True, False, False, True, True], [True, True, False, True, False, False, True, True, True, False], [True, True, False, True, False, False, True, True, False, True], [True, True, False, True, False, False, True, False, True, True], [True, True, False, True, False, False, False, True, True, True], [True, True, False, False, True, True, True, True, False, False], [True, True, False, False, True, True, True, False, True, False], [True, True, False, False, True, True, True, False, False, True], [True, True, False, False, True, True, False, True, True, False], [True, True, False, False, True, True, False, True, False, True], [True, True, False, False, True, True, False, False, True, True], [True, True, False, False, True, False, True, True, True, False], [True, True, False, False, True, False, True, True, False, True], [True, True, False, False, True, False, True, False, True, True], [True, True, False, False, True, False, False, True, True, True], [True, True, False, False, False, True, True, True, True, False], [True, True, False, False, False, True, True, True, False, True], [True, True, False, False, False, True, True, False, True, True], [True, True, False, False, False, True, False, True, True, True], [True, True, False, False, False, False, True, True, True, True], [True, False, True, True, True, True, True, False, False, False], [True, False, True, True, True, True, False, True, False, False], [True, False, True, True, True, True, False, False, True, False], [True, False, True, True, True, True, False, False, False, True], [True, False, True, True, True, False, True, True, False, False], [True, False, True, True, True, False, True, False, True, False], [True, False, True, True, True, False, True, False, False, True], [True, False, True, True, True, False, False, True, True, False], [True, False, True, True, True, False, False, True, False, True], [True, False, True, True, True, False, False, False, True, True], [True, False, True, True, False, True, True, True, False, False], [True, False, True, True, False, True, True, False, True, False], [True, False, True, True, False, True, True, False, False, True], [True, False, True, True, False, True, False, True, True, False], [True, False, True, True, False, True, False, True, False, True], [True, False, True, True, False, True, False, False, True, True], [True, False, True, True, False, False, True, True, True, False], [True, False, True, True, False, False, True, True, False, True], [True, False, True, True, False, False, True, False, True, True], [True, False, True, True, False, False, False, True, True, True], [True, False, True, False, True, True, True, True, False, False], [True, False, True, False, True, True, True, False, True, False], [True, False, True, False, True, True, True, False, False, True], [True, False, True, False, True, True, False, True, True, False], [True, False, True, False, True, True, False, True, False, True], [True, False, True, False, True, True, False, False, True, True], [True, False, True, False, True, False, True, True, True, False], [True, False, True, False, True, False, True, True, False, True], [True, False, True, False, True, False, True, False, True, True], [True, False, True, False, True, False, False, True, True, True], [True, False, True, False, False, True, True, True, True, False], [True, False, True, False, False, True, True, True, False, True], [True, False, True, False, False, True, True, False, True, True], [True, False, True, False, False, True, False, True, True, True], [True, False, True, False, False, False, True, True, True, True], [True, False, False, True, True, True, True, True, False, False], [True, False, False, True, True, True, True, False, True, False], [True, False, False, True, True, True, True, False, False, True], [True, False, False, True, True, True, False, True, True, False], [True, False, False, True, True, True, False, True, False, True], [True, False, False, True, True, True, False, False, True, True], [True, False, False, True, True, False, True, True, True, False], [True, False, False, True, True, False, True, True, False, True], [True, False, False, True, True, False, True, False, True, True], [True, False, False, True, True, False, False, True, True, True], [True, False, False, True, False, True, True, True, True, False], [True, False, False, True, False, True, True, True, False, True], [True, False, False, True, False, True, True, False, True, True], [True, False, False, True, False, True, False, True, True, True], [True, False, False, True, False, False, True, True, True, True], [True, False, False, False, True, True, True, True, True, False], [True, False, False, False, True, True, True, True, False, True], [True, False, False, False, True, True, True, False, True, True], [True, False, False, False, True, True, False, True, True, True], [True, False, False, False, True, False, True, True, True, True], [True, False, False, False, False, True, True, True, True, True], [False, True, True, True, True, True, True, False, False, False], [False, True, True, True, True, True, False, True, False, False], [False, True, True, True, True, True, False, False, True, False], [False, True, True, True, True, True, False, False, False, True], [False, True, True, True, True, False, True, True, False, False], [False, True, True, True, True, False, True, False, True, False], [False, True, True, True, True, False, True, False, False, True], [False, True, True, True, True, False, False, True, True, False], [False, True, True, True, True, False, False, True, False, True], [False, True, True, True, True, False, False, False, True, True], [False, True, True, True, False, True, True, True, False, False], [False, True, True, True, False, True, True, False, True, False], [False, True, True, True, False, True, True, False, False, True], [False, True, True, True, False, True, False, True, True, False], [False, True, True, True, False, True, False, True, False, True], [False, True, True, True, False, True, False, False, True, True], [False, True, True, True, False, False, True, True, True, False], [False, True, True, True, False, False, True, True, False, True], [False, True, True, True, False, False, True, False, True, True], [False, True, True, True, False, False, False, True, True, True], [False, True, True, False, True, True, True, True, False, False], [False, True, True, False, True, True, True, False, True, False], [False, True, True, False, True, True, True, False, False, True], [False, True, True, False, True, True, False, True, True, False], [False, True, True, False, True, True, False, True, False, True], [False, True, True, False, True, True, False, False, True, True], [False, True, True, False, True, False, True, True, True, False], [False, True, True, False, True, False, True, True, False, True], [False, True, True, False, True, False, True, False, True, True], [False, True, True, False, True, False, False, True, True, True], [False, True, True, False, False, True, True, True, True, False], [False, True, True, False, False, True, True, True, False, True], [False, True, True, False, False, True, True, False, True, True], [False, True, True, False, False, True, False, True, True, True], [False, True, True, False, False, False, True, True, True, True], [False, True, False, True, True, True, True, True, False, False], [False, True, False, True, True, True, True, False, True, False], [False, True, False, True, True, True, True, False, False, True], [False, True, False, True, True, True, False, True, True, False], [False, True, False, True, True, True, False, True, False, True], [False, True, False, True, True, True, False, False, True, True], [False, True, False, True, True, False, True, True, True, False], [False, True, False, True, True, False, True, True, False, True], [False, True, False, True, True, False, True, False, True, True], [False, True, False, True, True, False, False, True, True, True], [False, True, False, True, False, True, True, True, True, False], [False, True, False, True, False, True, True, True, False, True], [False, True, False, True, False, True, True, False, True, True], [False, True, False, True, False, True, False, True, True, True], [False, True, False, True, False, False, True, True, True, True], [False, True, False, False, True, True, True, True, True, False], [False, True, False, False, True, True, True, True, False, True], [False, True, False, False, True, True, True, False, True, True], [False, True, False, False, True, True, False, True, True, True], [False, True, False, False, True, False, True, True, True, True], [False, True, False, False, False, True, True, True, True, True], [False, False, True, True, True, True, True, True, False, False], [False, False, True, True, True, True, True, False, True, False], [False, False, True, True, True, True, True, False, False, True], [False, False, True, True, True, True, False, True, True, False], [False, False, True, True, True, True, False, True, False, True], [False, False, True, True, True, True, False, False, True, True], [False, False, True, True, True, False, True, True, True, False], [False, False, True, True, True, False, True, True, False, True], [False, False, True, True, True, False, True, False, True, True], [False, False, True, True, True, False, False, True, True, True], [False, False, True, True, False, True, True, True, True, False], [False, False, True, True, False, True, True, True, False, True], [False, False, True, True, False, True, True, False, True, True], [False, False, True, True, False, True, False, True, True, True], [False, False, True, True, False, False, True, True, True, True], [False, False, True, False, True, True, True, True, True, False], [False, False, True, False, True, True, True, True, False, True], [False, False, True, False, True, True, True, False, True, True], [False, False, True, False, True, True, False, True, True, True], [False, False, True, False, True, False, True, True, True, True], [False, False, True, False, False, True, True, True, True, True], [False, False, False, True, True, True, True, True, True, False], [False, False, False, True, True, True, True, True, False, True], [False, False, False, True, True, True, True, False, True, True], [False, False, False, True, True, True, False, True, True, True], [False, False, False, True, True, False, True, True, True, True], [False, False, False, True, False, True, True, True, True, True], [False, False, False, False, True, True, True, True, True, True]]\n",
      "[[True, True, True, True, True, True, True, False, False, False], [True, True, True, True, True, True, False, True, False, False], [True, True, True, True, True, True, False, False, True, False], [True, True, True, True, True, True, False, False, False, True], [True, True, True, True, True, False, True, True, False, False], [True, True, True, True, True, False, True, False, True, False], [True, True, True, True, True, False, True, False, False, True], [True, True, True, True, True, False, False, True, True, False], [True, True, True, True, True, False, False, True, False, True], [True, True, True, True, True, False, False, False, True, True], [True, True, True, True, False, True, True, True, False, False], [True, True, True, True, False, True, True, False, True, False], [True, True, True, True, False, True, True, False, False, True], [True, True, True, True, False, True, False, True, True, False], [True, True, True, True, False, True, False, True, False, True], [True, True, True, True, False, True, False, False, True, True], [True, True, True, True, False, False, True, True, True, False], [True, True, True, True, False, False, True, True, False, True], [True, True, True, True, False, False, True, False, True, True], [True, True, True, True, False, False, False, True, True, True], [True, True, True, False, True, True, True, True, False, False], [True, True, True, False, True, True, True, False, True, False], [True, True, True, False, True, True, True, False, False, True], [True, True, True, False, True, True, False, True, True, False], [True, True, True, False, True, True, False, True, False, True], [True, True, True, False, True, True, False, False, True, True], [True, True, True, False, True, False, True, True, True, False], [True, True, True, False, True, False, True, True, False, True], [True, True, True, False, True, False, True, False, True, True], [True, True, True, False, True, False, False, True, True, True], [True, True, True, False, False, True, True, True, True, False], [True, True, True, False, False, True, True, True, False, True], [True, True, True, False, False, True, True, False, True, True], [True, True, True, False, False, True, False, True, True, True], [True, True, True, False, False, False, True, True, True, True], [True, True, False, True, True, True, True, True, False, False], [True, True, False, True, True, True, True, False, True, False], [True, True, False, True, True, True, True, False, False, True], [True, True, False, True, True, True, False, True, True, False], [True, True, False, True, True, True, False, True, False, True], [True, True, False, True, True, True, False, False, True, True], [True, True, False, True, True, False, True, True, True, False], [True, True, False, True, True, False, True, True, False, True], [True, True, False, True, True, False, True, False, True, True], [True, True, False, True, True, False, False, True, True, True], [True, True, False, True, False, True, True, True, True, False], [True, True, False, True, False, True, True, True, False, True], [True, True, False, True, False, True, True, False, True, True], [True, True, False, True, False, True, False, True, True, True], [True, True, False, True, False, False, True, True, True, True], [True, True, False, False, True, True, True, True, True, False], [True, True, False, False, True, True, True, True, False, True], [True, True, False, False, True, True, True, False, True, True], [True, True, False, False, True, True, False, True, True, True], [True, True, False, False, True, False, True, True, True, True], [True, True, False, False, False, True, True, True, True, True], [True, False, True, True, True, True, True, True, False, False], [True, False, True, True, True, True, True, False, True, False], [True, False, True, True, True, True, True, False, False, True], [True, False, True, True, True, True, False, True, True, False], [True, False, True, True, True, True, False, True, False, True], [True, False, True, True, True, True, False, False, True, True], [True, False, True, True, True, False, True, True, True, False], [True, False, True, True, True, False, True, True, False, True], [True, False, True, True, True, False, True, False, True, True], [True, False, True, True, True, False, False, True, True, True], [True, False, True, True, False, True, True, True, True, False], [True, False, True, True, False, True, True, True, False, True], [True, False, True, True, False, True, True, False, True, True], [True, False, True, True, False, True, False, True, True, True], [True, False, True, True, False, False, True, True, True, True], [True, False, True, False, True, True, True, True, True, False], [True, False, True, False, True, True, True, True, False, True], [True, False, True, False, True, True, True, False, True, True], [True, False, True, False, True, True, False, True, True, True], [True, False, True, False, True, False, True, True, True, True], [True, False, True, False, False, True, True, True, True, True], [True, False, False, True, True, True, True, True, True, False], [True, False, False, True, True, True, True, True, False, True], [True, False, False, True, True, True, True, False, True, True], [True, False, False, True, True, True, False, True, True, True], [True, False, False, True, True, False, True, True, True, True], [True, False, False, True, False, True, True, True, True, True], [True, False, False, False, True, True, True, True, True, True], [False, True, True, True, True, True, True, True, False, False], [False, True, True, True, True, True, True, False, True, False], [False, True, True, True, True, True, True, False, False, True], [False, True, True, True, True, True, False, True, True, False], [False, True, True, True, True, True, False, True, False, True], [False, True, True, True, True, True, False, False, True, True], [False, True, True, True, True, False, True, True, True, False], [False, True, True, True, True, False, True, True, False, True], [False, True, True, True, True, False, True, False, True, True], [False, True, True, True, True, False, False, True, True, True], [False, True, True, True, False, True, True, True, True, False], [False, True, True, True, False, True, True, True, False, True], [False, True, True, True, False, True, True, False, True, True], [False, True, True, True, False, True, False, True, True, True], [False, True, True, True, False, False, True, True, True, True], [False, True, True, False, True, True, True, True, True, False], [False, True, True, False, True, True, True, True, False, True], [False, True, True, False, True, True, True, False, True, True], [False, True, True, False, True, True, False, True, True, True], [False, True, True, False, True, False, True, True, True, True], [False, True, True, False, False, True, True, True, True, True], [False, True, False, True, True, True, True, True, True, False], [False, True, False, True, True, True, True, True, False, True], [False, True, False, True, True, True, True, False, True, True], [False, True, False, True, True, True, False, True, True, True], [False, True, False, True, True, False, True, True, True, True], [False, True, False, True, False, True, True, True, True, True], [False, True, False, False, True, True, True, True, True, True], [False, False, True, True, True, True, True, True, True, False], [False, False, True, True, True, True, True, True, False, True], [False, False, True, True, True, True, True, False, True, True], [False, False, True, True, True, True, False, True, True, True], [False, False, True, True, True, False, True, True, True, True], [False, False, True, True, False, True, True, True, True, True], [False, False, True, False, True, True, True, True, True, True], [False, False, False, True, True, True, True, True, True, True]]\n",
      "[[True, True, True, True, True, True, True, True, False, False], [True, True, True, True, True, True, True, False, True, False], [True, True, True, True, True, True, True, False, False, True], [True, True, True, True, True, True, False, True, True, False], [True, True, True, True, True, True, False, True, False, True], [True, True, True, True, True, True, False, False, True, True], [True, True, True, True, True, False, True, True, True, False], [True, True, True, True, True, False, True, True, False, True], [True, True, True, True, True, False, True, False, True, True], [True, True, True, True, True, False, False, True, True, True], [True, True, True, True, False, True, True, True, True, False], [True, True, True, True, False, True, True, True, False, True], [True, True, True, True, False, True, True, False, True, True], [True, True, True, True, False, True, False, True, True, True], [True, True, True, True, False, False, True, True, True, True], [True, True, True, False, True, True, True, True, True, False], [True, True, True, False, True, True, True, True, False, True], [True, True, True, False, True, True, True, False, True, True], [True, True, True, False, True, True, False, True, True, True], [True, True, True, False, True, False, True, True, True, True], [True, True, True, False, False, True, True, True, True, True], [True, True, False, True, True, True, True, True, True, False], [True, True, False, True, True, True, True, True, False, True], [True, True, False, True, True, True, True, False, True, True], [True, True, False, True, True, True, False, True, True, True], [True, True, False, True, True, False, True, True, True, True], [True, True, False, True, False, True, True, True, True, True], [True, True, False, False, True, True, True, True, True, True], [True, False, True, True, True, True, True, True, True, False], [True, False, True, True, True, True, True, True, False, True], [True, False, True, True, True, True, True, False, True, True], [True, False, True, True, True, True, False, True, True, True], [True, False, True, True, True, False, True, True, True, True], [True, False, True, True, False, True, True, True, True, True], [True, False, True, False, True, True, True, True, True, True], [True, False, False, True, True, True, True, True, True, True], [False, True, True, True, True, True, True, True, True, False], [False, True, True, True, True, True, True, True, False, True], [False, True, True, True, True, True, True, False, True, True], [False, True, True, True, True, True, False, True, True, True], [False, True, True, True, True, False, True, True, True, True], [False, True, True, True, False, True, True, True, True, True], [False, True, True, False, True, True, True, True, True, True], [False, True, False, True, True, True, True, True, True, True], [False, False, True, True, True, True, True, True, True, True]]\n",
      "[[True, True, True, True, True, True, True, True, True, False], [True, True, True, True, True, True, True, True, False, True], [True, True, True, True, True, True, True, False, True, True], [True, True, True, True, True, True, False, True, True, True], [True, True, True, True, True, False, True, True, True, True], [True, True, True, True, False, True, True, True, True, True], [True, True, True, False, True, True, True, True, True, True], [True, True, False, True, True, True, True, True, True, True], [True, False, True, True, True, True, True, True, True, True], [False, True, True, True, True, True, True, True, True, True]]\n",
      "[[True, True, True, True, True, True, True, True, True, True]]\n"
     ]
    }
   ],
   "source": [
    "for r in range(N+1) : \n",
    "    print(spinless_basis(N,r))"
   ]
  },
  {
   "cell_type": "code",
   "execution_count": 12,
   "id": "916a4043",
   "metadata": {},
   "outputs": [
    {
     "data": {
      "text/plain": [
       "array([[ 0.,  0.,  0., ...,  0.,  0.,  0.],\n",
       "       [ 0.,  1.,  7., ...,  0.,  0.,  0.],\n",
       "       [ 0.,  7.,  1., ...,  0.,  0.,  0.],\n",
       "       ...,\n",
       "       [ 0.,  0.,  0., ...,  9.,  7.,  0.],\n",
       "       [ 0.,  0.,  0., ...,  7.,  9.,  0.],\n",
       "       [ 0.,  0.,  0., ...,  0.,  0., 10.]])"
      ]
     },
     "execution_count": 12,
     "metadata": {},
     "output_type": "execute_result"
    }
   ],
   "source": [
    "tb0_full(N,e,t)"
   ]
  },
  {
   "cell_type": "code",
   "execution_count": 13,
   "id": "e9fec473",
   "metadata": {},
   "outputs": [
    {
     "data": {
      "text/plain": [
       "11"
      ]
     },
     "execution_count": 13,
     "metadata": {},
     "output_type": "execute_result"
    }
   ],
   "source": [
    "r=2\n",
    "sum([math.comb(N,k) for k in range(r)])"
   ]
  },
  {
   "cell_type": "code",
   "execution_count": null,
   "id": "3433391c",
   "metadata": {},
   "outputs": [],
   "source": []
  },
  {
   "cell_type": "code",
   "execution_count": null,
   "id": "371e27d9",
   "metadata": {},
   "outputs": [],
   "source": []
  },
  {
   "cell_type": "code",
   "execution_count": null,
   "id": "05ad2db0",
   "metadata": {},
   "outputs": [],
   "source": []
  },
  {
   "cell_type": "code",
   "execution_count": null,
   "id": "d9a448da",
   "metadata": {},
   "outputs": [],
   "source": []
  },
  {
   "cell_type": "code",
   "execution_count": 14,
   "id": "145a1a99",
   "metadata": {},
   "outputs": [
    {
     "name": "stderr",
     "output_type": "stream",
     "text": [
      "IOPub data rate exceeded.\n",
      "The notebook server will temporarily stop sending output\n",
      "to the client in order to avoid crashing it.\n",
      "To change this limit, set the config variable\n",
      "`--NotebookApp.iopub_data_rate_limit`.\n",
      "\n",
      "Current values:\n",
      "NotebookApp.iopub_data_rate_limit=1000000.0 (bytes/sec)\n",
      "NotebookApp.rate_limit_window=3.0 (secs)\n",
      "\n"
     ]
    }
   ],
   "source": [
    "print(tabulate(tb0_full(N,e,t),tablefmt='plain'))"
   ]
  },
  {
   "cell_type": "code",
   "execution_count": 15,
   "id": "2112b09e",
   "metadata": {},
   "outputs": [
    {
     "ename": "TypeError",
     "evalue": "'int' object is not subscriptable",
     "output_type": "error",
     "traceback": [
      "\u001b[1;31m---------------------------------------------------------------------------\u001b[0m",
      "\u001b[1;31mTypeError\u001b[0m                                 Traceback (most recent call last)",
      "Cell \u001b[1;32mIn[15], line 1\u001b[0m\n\u001b[1;32m----> 1\u001b[0m \u001b[43mtb0_model\u001b[49m\u001b[43m(\u001b[49m\u001b[43mN\u001b[49m\u001b[43m,\u001b[49m\u001b[43mr\u001b[49m\u001b[43m,\u001b[49m\u001b[43mt\u001b[49m\u001b[43m,\u001b[49m\u001b[43me\u001b[49m\u001b[43m)\u001b[49m\n",
      "Cell \u001b[1;32mIn[4], line 51\u001b[0m, in \u001b[0;36mtb0_model\u001b[1;34m(N, r, e, t)\u001b[0m\n\u001b[0;32m     49\u001b[0m \u001b[38;5;28;01mfor\u001b[39;00m i \u001b[38;5;129;01min\u001b[39;00m \u001b[38;5;28mrange\u001b[39m(dim) : \n\u001b[0;32m     50\u001b[0m     \u001b[38;5;28;01mfor\u001b[39;00m j \u001b[38;5;129;01min\u001b[39;00m \u001b[38;5;28mrange\u001b[39m(N) : \n\u001b[1;32m---> 51\u001b[0m         n_diag[i] \u001b[38;5;241m+\u001b[39m\u001b[38;5;241m=\u001b[39m \u001b[43me\u001b[49m\u001b[43m[\u001b[49m\u001b[43mj\u001b[49m\u001b[43m]\u001b[49m\u001b[38;5;241m*\u001b[39mbasis_set[i][j]\n\u001b[0;32m     53\u001b[0m np\u001b[38;5;241m.\u001b[39mfill_diagonal(H,n_diag)\n\u001b[0;32m     54\u001b[0m \u001b[38;5;28;01mfor\u001b[39;00m basis_index,basis \u001b[38;5;129;01min\u001b[39;00m \u001b[38;5;28menumerate\u001b[39m(basis_set) : \n",
      "\u001b[1;31mTypeError\u001b[0m: 'int' object is not subscriptable"
     ]
    }
   ],
   "source": [
    "tb0_model(N,r,t,e)"
   ]
  },
  {
   "cell_type": "code",
   "execution_count": null,
   "id": "86970439",
   "metadata": {},
   "outputs": [],
   "source": [
    "state_occupation([vec[0],vec[0]])\n"
   ]
  },
  {
   "cell_type": "code",
   "execution_count": null,
   "id": "1993bc1e",
   "metadata": {},
   "outputs": [],
   "source": [
    "plt.plot(range(N),e)\n",
    "plt.xlabel('sites')\n",
    "plt.ylabel('e')\n"
   ]
  },
  {
   "cell_type": "code",
   "execution_count": null,
   "id": "87ff7af3",
   "metadata": {},
   "outputs": [],
   "source": [
    "H"
   ]
  },
  {
   "cell_type": "code",
   "execution_count": null,
   "id": "1ee0139d",
   "metadata": {},
   "outputs": [],
   "source": [
    "N=4\n",
    "for r in range(N+1) : \n",
    "    b_set = spinless_basis(N,r)\n",
    "    new_bset = []\n",
    "    for b in b_set : \n",
    "        new_b = sum([2**(N-i-1)*b[i] for i in range(N)])\n",
    "        new_bset.append(new_b)\n",
    "    print(new_bset)"
   ]
  },
  {
   "cell_type": "code",
   "execution_count": null,
   "id": "635ce3d3",
   "metadata": {},
   "outputs": [],
   "source": [
    "N=3\n",
    "from scipy.linalg import block_diag\n",
    "n = []\n",
    "for r in range(N+1) : \n",
    "    n.append(tb0_model(N,r,e,t)[0])\n",
    "print(tabulate(block_diag(n[0],n[1],n[2],n[3]),tablefmt='plain'))"
   ]
  },
  {
   "cell_type": "code",
   "execution_count": null,
   "id": "a77673c9",
   "metadata": {},
   "outputs": [],
   "source": [
    "def spinless_state_occupation(states) :\n",
    "    '''Describes occupation of eigenstates over the lattice sites \n",
    "    Input : list of eigenstates\n",
    "    Output : plots the occuptation number graph and \n",
    "    returns list of occupation number over sites for all thes states (list of lists)'''\n",
    "    num_states = len(states)\n",
    "    dim = len(states[0])\n",
    "    states_occ = []\n",
    "    for index in range(num_states) : \n",
    "        mod_sq = np.zeros(dim)\n",
    "        for i in range(dim) : \n",
    "            mod_sq[i] = np.abs(states[index][i])**2\n",
    "        states_occ.append(mod_sq)\n",
    "\n",
    "        plt.plot(range(dim), mod_sq, label='vec {:.2f}'.format(index))\n",
    "    plt.xlabel('sites')\n",
    "    plt.ylabel('<n>')\n",
    "    plt.title(\"Occupation of states wrt sites\")\n",
    "    plt.legend()\n",
    "\n",
    "    return states_occ\n",
    "\n",
    "def density_of_states(eigval,n_centers) : \n",
    "    '''\n",
    "    Input : eigenvalues of the model, number of points where density is to be found\n",
    "    Output : density of states, plots density of states graph \n",
    "    '''\n",
    "    gamma = (eigval[-1]-eigval[0])/n_centers\n",
    "    centers = np.linspace(eigval[0]-n_centers/10, eigval[-1]+n_centers/10, num=n_centers)\n",
    "    \n",
    "    density = np.zeros(n_centers)\n",
    "    for i, center in enumerate(centers):\n",
    "        if center < eigval[0] or center > eigval[-1]: \n",
    "            density[i] = 0 \n",
    "        else : \n",
    "            lorentz = np.sum(1 / np.pi * (gamma / 2) / ((center - eigval)**2 + (gamma / 2)**2))\n",
    "            density[i] = lorentz\n",
    "    norm_density = [float(i)/sum(density) for i in density]\n",
    "    plt.plot(centers,norm_density)\n",
    "    plt.xlabel('Energy of system')\n",
    "    plt.ylabel('Density of states')\n",
    "    plt.title(\"Density of states\")\n",
    "    return density"
   ]
  },
  {
   "cell_type": "code",
   "execution_count": null,
   "id": "225ca318",
   "metadata": {},
   "outputs": [],
   "source": [
    "spinless_state_occupation([vec[0],vec[0]])\n"
   ]
  },
  {
   "cell_type": "code",
   "execution_count": null,
   "id": "d677a211",
   "metadata": {},
   "outputs": [],
   "source": []
  }
 ],
 "metadata": {
  "kernelspec": {
   "display_name": "Python 3.8.3 64-bit ('qiskit': conda)",
   "language": "python",
   "name": "python38364bitqiskitconda85c61b2c9abf41d69916d1aec5f7d63b"
  },
  "language_info": {
   "codemirror_mode": {
    "name": "ipython",
    "version": 3
   },
   "file_extension": ".py",
   "mimetype": "text/x-python",
   "name": "python",
   "nbconvert_exporter": "python",
   "pygments_lexer": "ipython3",
   "version": "3.9.16"
  }
 },
 "nbformat": 4,
 "nbformat_minor": 5
}
