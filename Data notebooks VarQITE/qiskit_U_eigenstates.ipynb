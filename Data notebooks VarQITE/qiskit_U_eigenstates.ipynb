{
 "cells": [
  {
   "cell_type": "code",
   "execution_count": 1,
   "id": "58163fd5",
   "metadata": {},
   "outputs": [],
   "source": [
    "import numpy as np\n",
    "from qiskit import *\n",
    "from qiskit.quantum_info import Operator, Pauli, SparsePauliOp\n",
    "from tabulate import tabulate\n",
    "from itertools import combinations\n",
    "from scipy.linalg import eigh, block_diag\n",
    "import math,cmath"
   ]
  },
  {
   "cell_type": "code",
   "execution_count": 2,
   "id": "ef132735",
   "metadata": {},
   "outputs": [],
   "source": [
    "def spinless_sub_dim(N,r) : \n",
    "    '''\n",
    "    input : number of lattice sites (N), number of electrons (r) \n",
    "    output : dimension of this subspace \n",
    "    '''\n",
    "    return math.comb(N,r)\n",
    "\n",
    "def spinless_basis(N,r) : \n",
    "    basis_set = []\n",
    "    lattice = list(range(N))\n",
    "    places = list(combinations(lattice, r))\n",
    "    for combination in places : \n",
    "        basis = [False] *N\n",
    "        for index in combination : \n",
    "            basis[index] = True \n",
    "        basis_set.append(basis)\n",
    "    return basis_set\n",
    "\n",
    "def spinless_states_index(N) : \n",
    "    '''Input : N, uses spinless_basis function\n",
    "    Output : Returns binary of basis states in fermionic Hamiltonian ''' \n",
    "    index = []\n",
    "    for r in range(N+1) : \n",
    "        b_set = spinless_basis(N,r)\n",
    "        new_bset = []\n",
    "        for b in b_set : \n",
    "            new_b = sum([2**(N-i-1)*b[i] for i in range(N)])\n",
    "            index.append(new_b)\n",
    "    return index\n",
    "\n",
    "def tb0_JW(N,e,t) : \n",
    "    strings = []\n",
    "    opt = SparsePauliOp.from_sparse_list([(\"I\", [0], 0)], num_qubits=N)  \n",
    "    for k in range(N) :\n",
    "        a0='I'*(N)\n",
    "        a1 = 'I'*(k)+'Z' +'I'*(N-k-1)\n",
    "\n",
    "        b0='I'*N\n",
    "        b0_list = list(b0)\n",
    "        b0_list[k] = 'X'\n",
    "        b0_list[(k+1)%N] = 'X'\n",
    "        new_b0 = ''.join(b0_list)\n",
    "\n",
    "        b1='I'*N\n",
    "        b1_list = list(b0)\n",
    "        b1_list[k] = 'Y'\n",
    "        b1_list[(k+1)%N] = 'Y'\n",
    "        new_b1 = ''.join(b1_list)\n",
    "\n",
    "        strings.append([a0,a1,new_b0,new_b1])\n",
    "        val = 1\n",
    "        if N==2 and k==1 : \n",
    "            val = 0\n",
    "        opt += SparsePauliOp.from_list([(a0, 0.5*e[k]), (a1, -0.5*e[k]),(new_b0, 0.5*t*val),(new_b1, 0.5*t*val)])\n",
    "    return opt  \n",
    "\n",
    "def ferm_JW(JW_mat) : \n",
    "    '''Input : SparsePauliOp JW matrix, uses function spinless_states_index\n",
    "    Output : Returns JW matrix in order of fermionic basis states'''\n",
    "    class_index = spinless_states_index(N)\n",
    "    #JW_mat = mat.to_matrix()\n",
    "    ferm_mat = np.zeros((2**N,2**N))\n",
    "    for i in range(2**N) : \n",
    "        for j in range(2**N) : \n",
    "            ferm_mat[i][j] = JW_mat[class_index[i]][class_index[j]]\n",
    "    return ferm_mat\n",
    "\n",
    "def tb0_model(N,r,e,t): \n",
    "    ''' Generalised Tight Binding (spinless) model for periodic boundary condition\n",
    "    Input : Number of lattice sites (int), number of electrons(int), hopping constant (int/float), onsite energies (list)\n",
    "    Output : Tight binding Hamiltonian, eigenvalues and eigenvectors of the matrix ''' \n",
    "    dim = spinless_sub_dim(N,r)\n",
    "    if r==0 : \n",
    "        H = np.zeros(1)\n",
    "        eigval = H[0]\n",
    "        new_vec = H\n",
    "    elif r==N : \n",
    "        H = [[r]]\n",
    "        eigval = H[0]\n",
    "        new_vec = H\n",
    "    else : \n",
    "        H = np.zeros((dim, dim))\n",
    "        basis_set = spinless_basis(N,r)\n",
    "        n_diag = np.zeros(dim)\n",
    "        for i in range(dim) : \n",
    "            for j in range(N) : \n",
    "                n_diag[i] += e[j]*basis_set[i][j]\n",
    "\n",
    "        np.fill_diagonal(H,n_diag)\n",
    "        for basis_index,basis in enumerate(basis_set) : \n",
    "            for site in range(len(basis)) : \n",
    "                if basis[site] == False and basis[(site+1)%N] == True : \n",
    "                    new_state = basis.copy()\n",
    "                    new_state[site] = True\n",
    "                    new_state[(site+1)%N] = False \n",
    "                    for i in range(len(basis_set)) : \n",
    "                        if basis_set[i] == new_state: \n",
    "                            f_index = i\n",
    "                    H[f_index][basis_index] +=t\n",
    "                if N != 2 : \n",
    "                    if basis[site] == True and basis[(site+1)%N] == False : \n",
    "                        new_state = basis.copy()\n",
    "                        new_state[site] = False\n",
    "                        new_state[(site+1)%N] = True \n",
    "                        for i in range(len(basis_set)) : \n",
    "                            if basis_set[i] == new_state : \n",
    "                                f_index = i\n",
    "                        H[f_index][basis_index] +=t \n",
    "        eigval,eigvec = np.linalg.eigh(H)\n",
    "        new_vec = list(zip(*eigvec))\n",
    "                \n",
    "    return H,eigval,new_vec\n",
    "\n",
    "def tb0_full(N,e,t): \n",
    "    '''Full Block Diagonal Hamiltonian for some N length closed lattice '''\n",
    "    H_sub_list = []\n",
    "    for r in range(N+1) : \n",
    "        H_sub = tb0_model(N,r,e,t)[0]\n",
    "        H_sub_list.append(H_sub)\n",
    "    H = block_diag(*H_sub_list) \n",
    "    return H"
   ]
  },
  {
   "cell_type": "code",
   "execution_count": 26,
   "id": "58a9b823",
   "metadata": {},
   "outputs": [],
   "source": [
    "N = 10\n",
    "e = [1]*N\n",
    "t = 7"
   ]
  },
  {
   "cell_type": "code",
   "execution_count": 27,
   "id": "f5248c8d",
   "metadata": {},
   "outputs": [],
   "source": [
    "eig_jw,v_jw = np.linalg.eigh(tb0_JW(N,e,t))\n",
    "vec_jw = list(zip(*v_jw))"
   ]
  },
  {
   "cell_type": "code",
   "execution_count": 29,
   "id": "3cca629b",
   "metadata": {},
   "outputs": [
    {
     "name": "stdout",
     "output_type": "stream",
     "text": [
      "[-40.30495168 -39.08756952 -37.08756952 ...  47.08756952  49.08756952\n",
      "  50.30495168]\n"
     ]
    }
   ],
   "source": [
    "print(eig_jw)\n",
    "\n",
    "# print('=========')\n",
    "\n",
    "# for vec in vec_jw : \n",
    "#     print(list(vec))\n",
    "#     print('---------')"
   ]
  },
  {
   "cell_type": "code",
   "execution_count": 25,
   "id": "0024e3ed",
   "metadata": {},
   "outputs": [
    {
     "name": "stdout",
     "output_type": "stream",
     "text": [
      "1\n",
      "5\n",
      "10\n",
      "10\n",
      "5\n",
      "1\n"
     ]
    }
   ],
   "source": [
    "for r in range(N+1) : \n",
    "    print(spinless_sub_dim(N,r))"
   ]
  },
  {
   "cell_type": "code",
   "execution_count": null,
   "id": "1b64cca3",
   "metadata": {},
   "outputs": [],
   "source": []
  },
  {
   "cell_type": "code",
   "execution_count": null,
   "id": "6e87f7a3",
   "metadata": {},
   "outputs": [],
   "source": []
  },
  {
   "cell_type": "code",
   "execution_count": null,
   "id": "5e3ec6a7",
   "metadata": {},
   "outputs": [],
   "source": []
  },
  {
   "cell_type": "code",
   "execution_count": null,
   "id": "c5f624d1",
   "metadata": {},
   "outputs": [],
   "source": []
  },
  {
   "cell_type": "code",
   "execution_count": 14,
   "id": "32d32108",
   "metadata": {},
   "outputs": [
    {
     "data": {
      "text/plain": [
       "<qiskit.circuit.instructionset.InstructionSet at 0x228f4f596a0>"
      ]
     },
     "execution_count": 14,
     "metadata": {},
     "output_type": "execute_result"
    }
   ],
   "source": [
    "circ = QuantumCircuit(N)\n",
    "#circ.initialize('1101',circ.qubits)\n",
    "time=1e-10\n",
    "JW_op = tb0_JW(N,e,t)\n",
    "circ.hamiltonian(JW_op,time,list(range(N)))\n",
    "#circ.decompose(reps=2).draw('mpl')"
   ]
  },
  {
   "cell_type": "code",
   "execution_count": null,
   "id": "b3ca307b",
   "metadata": {},
   "outputs": [],
   "source": []
  },
  {
   "cell_type": "code",
   "execution_count": 15,
   "id": "1bcc1ff1",
   "metadata": {
    "scrolled": true
   },
   "outputs": [
    {
     "name": "stdout",
     "output_type": "stream",
     "text": [
      "[[ 1.+0.e+00j  0.+0.e+00j  0.+0.e+00j  0.+0.e+00j  0.+0.e+00j  0.+0.e+00j\n",
      "   0.+0.e+00j  0.+0.e+00j]\n",
      " [ 0.+0.e+00j  1.-1.e-10j -0.-7.e-10j  0.+0.e+00j -0.-7.e-10j  0.+0.e+00j\n",
      "   0.+0.e+00j  0.+0.e+00j]\n",
      " [ 0.+0.e+00j -0.-7.e-10j  1.-1.e-10j  0.+0.e+00j -0.-7.e-10j  0.+0.e+00j\n",
      "   0.+0.e+00j  0.+0.e+00j]\n",
      " [ 0.+0.e+00j  0.+0.e+00j  0.+0.e+00j  1.-2.e-10j  0.+0.e+00j -0.-7.e-10j\n",
      "  -0.-7.e-10j  0.+0.e+00j]\n",
      " [ 0.+0.e+00j -0.-7.e-10j -0.-7.e-10j  0.+0.e+00j  1.-1.e-10j  0.+0.e+00j\n",
      "   0.+0.e+00j  0.+0.e+00j]\n",
      " [ 0.+0.e+00j  0.+0.e+00j  0.+0.e+00j -0.-7.e-10j  0.+0.e+00j  1.-2.e-10j\n",
      "  -0.-7.e-10j  0.+0.e+00j]\n",
      " [ 0.+0.e+00j  0.+0.e+00j  0.+0.e+00j -0.-7.e-10j  0.+0.e+00j -0.-7.e-10j\n",
      "   1.-2.e-10j  0.+0.e+00j]\n",
      " [ 0.+0.e+00j  0.+0.e+00j  0.+0.e+00j  0.+0.e+00j  0.+0.e+00j  0.+0.e+00j\n",
      "   0.+0.e+00j  1.-3.e-10j]]\n"
     ]
    }
   ],
   "source": [
    "backend = Aer.get_backend('unitary_simulator')\n",
    "job = execute(circ, backend, shots=1000)\n",
    "result = job.result()\n",
    "\n",
    "\n",
    "U = result.get_unitary(circ,10).data\n",
    "print(U)\n",
    "# #print(tabulate(U,tablefmt='plain'))\n",
    "# # H_circ = (U-np.eye(2**N))*(1j/time)\n",
    "# # #H = (U-np.eye(2**N))\n",
    "# # #print(H_circ)\n",
    "# # print(tabulate(H_circ,tablefmt='plain'))\n",
    "# # print('------')\n",
    "# # H_circ_ferm = ferm_JW(H_circ)\n",
    "# # print(tabulate(H_circ_ferm,tablefmt='plain'))"
   ]
  },
  {
   "cell_type": "code",
   "execution_count": 16,
   "id": "456de3a9",
   "metadata": {},
   "outputs": [],
   "source": [
    "eig_U,v_U = np.linalg.eig(U)\n",
    "vec_U = list(zip(*v_U))"
   ]
  },
  {
   "cell_type": "code",
   "execution_count": 18,
   "id": "e93342a0",
   "metadata": {},
   "outputs": [
    {
     "name": "stdout",
     "output_type": "stream",
     "text": [
      "[1.+5.00000041e-10j 1.-1.60000002e-09j 1.+6.00000161e-10j\n",
      " 1.-1.49999993e-09j 1.+6.00000161e-10j 1.+5.00000048e-10j\n",
      " 1.+0.00000000e+00j 1.-3.00000000e-10j]\n",
      "(0.9999999999999996-1.4999999298215272e-09j)\n",
      "[0.0, 0.0, 0.0, 0.4082482904638632, 0.0, 0.4082482904638632, 0.8164965809277257, 0.0]\n",
      "------------------\n",
      "[0.0, 0.0, 0.0, 0.5773502893018719, 0.0, 0.5773502893018719, 0.5773502289651312, 0.0]\n",
      "------------------\n",
      "[0.0, 0.816496580927667, 0.4082482904638428, 1.6481677288337601e-07, 0.4082482904638329, 1.6481677288337511e-07, 2.8842930810029037e-07, 0.0]\n",
      "------------------\n",
      "[0.0, 0.5773502589065944, 0.5773502743310891, 2.0832076613016943e-07, 0.577350274331075, 2.0832076613017065e-07, 2.2434543168315403e-07, 0.0]\n",
      "------------------\n",
      "[0.0, 0.28224668497442107, 0.5223919976637438, 1.8683011157668623e-07, 0.8046386826382277, 7.363292508371665e-08, 9.970428840619338e-08, 0.0]\n",
      "------------------\n",
      "[0.0, 8.665884825279275e-07, 1.3929815610481225e-06, 0.6111706723789928, 6.612699559025508e-07, 0.7744699775633525, 0.16329930518438154, 0.0]\n",
      "------------------\n",
      "[1.0, 0.0, 0.0, 0.0, 0.0, 0.0, 0.0, 0.0]\n",
      "------------------\n",
      "[0.0, 0.0, 0.0, 0.0, 0.0, 0.0, 0.0, 1.0]\n",
      "------------------\n"
     ]
    }
   ],
   "source": [
    "print(eig_U)\n",
    "print(min(eig_U))\n",
    "eigUnew = [1j/time*cmath.log(x) for x in eig_U]\n",
    "#print(eigUnew)\n",
    "U_list = []\n",
    "for vec in vec_U : \n",
    "    \n",
    "    new_vec = [np.abs(x) for x in vec]\n",
    "    U_list.append(new_vec)\n",
    "    print(new_vec)\n",
    "    print('------------------')"
   ]
  },
  {
   "cell_type": "code",
   "execution_count": 150,
   "id": "f35531d0",
   "metadata": {},
   "outputs": [],
   "source": [
    "# indices = spinless_states_index(N)\n",
    "# jordan_list = []\n",
    "# for vec in vec_U : \n",
    "#     ferm_vec = [0]*len(vec)\n",
    "#     for i in range(len(vec)) : \n",
    "#         ferm_vec[i] = float(vec[indices[i]])\n",
    "#     print(list(ferm_vec))\n",
    "#     jordan_list.append(list(ferm_vec))\n",
    "#     print('---------')"
   ]
  },
  {
   "cell_type": "code",
   "execution_count": 151,
   "id": "283b0ad5",
   "metadata": {},
   "outputs": [],
   "source": [
    "# backend = Aer.get_backend('statevector_simulator')\n",
    "# job = execute(circ, backend)\n",
    "# result = job.result()\n",
    "# statevector = result.get_statevector()\n",
    "\n",
    "# print(statevector)\n"
   ]
  },
  {
   "cell_type": "code",
   "execution_count": 25,
   "id": "f1a313a8",
   "metadata": {},
   "outputs": [],
   "source": [
    "eigfull,vecfull = np.linalg.eigh(tb0_full(N,e,t))\n",
    "eigvecfull = list(zip(*vecfull))"
   ]
  },
  {
   "cell_type": "code",
   "execution_count": 22,
   "id": "8ca8b7c5",
   "metadata": {},
   "outputs": [],
   "source": [
    "eig_jw,v_jw = np.linalg.eigh(tb0_JW(N,e,t))\n",
    "vec_jw = list(zip(*v_jw))"
   ]
  },
  {
   "cell_type": "code",
   "execution_count": 26,
   "id": "410b52e8",
   "metadata": {},
   "outputs": [
    {
     "name": "stdout",
     "output_type": "stream",
     "text": [
      "[-6. -6. -5. -5.  0.  3. 15. 16.]\n"
     ]
    }
   ],
   "source": [
    "print(eigfull)"
   ]
  },
  {
   "cell_type": "code",
   "execution_count": 23,
   "id": "0d78bae0",
   "metadata": {},
   "outputs": [
    {
     "name": "stdout",
     "output_type": "stream",
     "text": [
      "[-6. -6. -5. -5.  0.  3. 15. 16.]\n"
     ]
    }
   ],
   "source": [
    "print(eig_jw)"
   ]
  },
  {
   "cell_type": "code",
   "execution_count": 27,
   "id": "8452c24f",
   "metadata": {},
   "outputs": [
    {
     "name": "stdout",
     "output_type": "stream",
     "text": [
      "[0.0, 0.0, -0.7071067811865476, 0.7071067811865475, 0.0, 0.0, 0.0, 0.0]\n",
      "---------\n",
      "[-0.0, -0.8164965809277261, 0.40824829046386313, 0.408248290463863, -0.0, -0.0, -0.0, -0.0]\n",
      "---------\n",
      "[0.0, 0.0, 0.0, 0.0, 0.0, -0.7071067811865476, 0.7071067811865475, 0.0]\n",
      "---------\n",
      "[-0.0, -0.0, -0.0, -0.0, -0.8164965809277261, 0.40824829046386313, 0.408248290463863, -0.0]\n",
      "---------\n",
      "[1.0, 0.0, 0.0, 0.0, 0.0, 0.0, 0.0, 0.0]\n",
      "---------\n",
      "[0.0, 0.0, 0.0, 0.0, 0.0, 0.0, 0.0, 1.0]\n",
      "---------\n",
      "[0.0, -0.5773502691896257, -0.5773502691896261, -0.577350269189626, 0.0, 0.0, 0.0, 0.0]\n",
      "---------\n",
      "[0.0, 0.0, 0.0, 0.0, -0.5773502691896257, -0.5773502691896261, -0.577350269189626, 0.0]\n",
      "---------\n"
     ]
    }
   ],
   "source": [
    "normal_list = []\n",
    "for vec in eigvecfull : \n",
    "    print(list(vec))\n",
    "    normal_list.append(list(vec))\n",
    "    print('---------')"
   ]
  },
  {
   "cell_type": "code",
   "execution_count": 24,
   "id": "38962ee3",
   "metadata": {},
   "outputs": [
    {
     "name": "stdout",
     "output_type": "stream",
     "text": [
      "[0.0, -0.7071067811865475, 0.7071067811865476, 0.0, 0.0, 0.0, 0.0, 0.0]\n",
      "---------\n",
      "[-0.0, 0.408248290463863, 0.40824829046386313, -0.8164965809277261, 0.0, 0.0, 0.0, -0.0]\n",
      "---------\n",
      "[0.0, 0.0, 0.0, 0.0, 0.7071067811865475, -0.7071067811865476, 0.0, 0.0]\n",
      "---------\n",
      "[0.0, 0.0, 0.0, 0.0, -0.408248290463863, -0.40824829046386313, 0.8164965809277261, 0.0]\n",
      "---------\n",
      "[1.0, 0.0, 0.0, 0.0, 0.0, 0.0, 0.0, 0.0]\n",
      "---------\n",
      "[0.0, 0.0, 0.0, 0.0, 0.0, 0.0, 0.0, 1.0]\n",
      "---------\n",
      "[0.0, -0.577350269189626, -0.5773502691896261, -0.5773502691896257, 0.0, 0.0, 0.0, 0.0]\n",
      "---------\n",
      "[0.0, 0.0, 0.0, 0.0, -0.577350269189626, -0.5773502691896261, -0.5773502691896257, 0.0]\n",
      "---------\n"
     ]
    },
    {
     "name": "stderr",
     "output_type": "stream",
     "text": [
      "C:\\Users\\cheshtajoshi\\AppData\\Local\\Temp\\ipykernel_7848\\2005635066.py:6: ComplexWarning: Casting complex values to real discards the imaginary part\n",
      "  ferm_vec[i] = float(vec[indices[i]])\n"
     ]
    }
   ],
   "source": [
    "indices = spinless_states_index(N)\n",
    "jordan_list = []\n",
    "for vec in vec_jw : \n",
    "    ferm_vec = [0]*len(vec)\n",
    "    for i in range(len(vec)) : \n",
    "        ferm_vec[i] = float(vec[indices[i]])\n",
    "    print(list(ferm_vec))\n",
    "    jordan_list.append(list(ferm_vec))\n",
    "    print('---------')"
   ]
  },
  {
   "cell_type": "code",
   "execution_count": 158,
   "id": "6e435051",
   "metadata": {},
   "outputs": [
    {
     "name": "stdout",
     "output_type": "stream",
     "text": [
      "0.0\n",
      "0.0\n",
      "0.0\n",
      "0.0\n"
     ]
    }
   ],
   "source": [
    "for i in range(len(normal_list)) : \n",
    "    #print(max(normal_list[i]-jordan_list[i]))\n",
    "    result = []\n",
    "    for j in range(len(normal_list)):\n",
    "        result.append(normal_list[i][j] - jordan_list[i][j])\n",
    "    print(sum(result))"
   ]
  },
  {
   "cell_type": "code",
   "execution_count": 159,
   "id": "f90f64bc",
   "metadata": {},
   "outputs": [
    {
     "name": "stdout",
     "output_type": "stream",
     "text": [
      "[0.0, 4.440892098500626e-16, 1.414213562373095, 0.0]\n",
      "[-1.0, 0.7071067811865477, 0.7071067811865475, 0.0]\n",
      "[1.0, 0.0, 0.0, -1.0]\n",
      "[0.0, -0.7071067811865475, -0.7071067811865475, 1.0]\n"
     ]
    }
   ],
   "source": [
    "for i in range(len(normal_list)) : \n",
    "    #print(max(normal_list[i]-jordan_list[i]))\n",
    "    result = []\n",
    "    for j in range(len(normal_list)):\n",
    "        result.append(U_list[i][j] - jordan_list[i][j])\n",
    "    print((result))"
   ]
  },
  {
   "cell_type": "code",
   "execution_count": 160,
   "id": "579ce0bb",
   "metadata": {},
   "outputs": [],
   "source": [
    "H_JW = tb0_JW(N,e,t).to_matrix()"
   ]
  },
  {
   "cell_type": "code",
   "execution_count": 161,
   "id": "8a65db11",
   "metadata": {},
   "outputs": [
    {
     "name": "stdout",
     "output_type": "stream",
     "text": [
      "0  0  0  0\n",
      "0  1  7  0\n",
      "0  7  1  0\n",
      "0  0  0  2\n"
     ]
    }
   ],
   "source": [
    "print(tabulate(H_JW,tablefmt='plain'))"
   ]
  },
  {
   "cell_type": "code",
   "execution_count": null,
   "id": "1e087002",
   "metadata": {},
   "outputs": [],
   "source": [
    "for r in range(N+1) : \n",
    "    print(spinless_basis(N,r))\n",
    "    print('----')\n",
    "    "
   ]
  },
  {
   "cell_type": "code",
   "execution_count": null,
   "id": "ab5df597",
   "metadata": {},
   "outputs": [],
   "source": [
    "spinless_states_index(N)"
   ]
  },
  {
   "cell_type": "code",
   "execution_count": null,
   "id": "6bf94778",
   "metadata": {},
   "outputs": [],
   "source": [
    "tb0_JW(N,e,t).to_matrix()"
   ]
  },
  {
   "cell_type": "code",
   "execution_count": null,
   "id": "5d236eb1",
   "metadata": {},
   "outputs": [],
   "source": []
  }
 ],
 "metadata": {
  "kernelspec": {
   "display_name": "Python 3.8.3 64-bit ('qiskit': conda)",
   "language": "python",
   "name": "python38364bitqiskitconda85c61b2c9abf41d69916d1aec5f7d63b"
  },
  "language_info": {
   "codemirror_mode": {
    "name": "ipython",
    "version": 3
   },
   "file_extension": ".py",
   "mimetype": "text/x-python",
   "name": "python",
   "nbconvert_exporter": "python",
   "pygments_lexer": "ipython3",
   "version": "3.9.16"
  }
 },
 "nbformat": 4,
 "nbformat_minor": 5
}
